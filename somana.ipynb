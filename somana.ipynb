{
 "cells": [
  {
   "cell_type": "code",
   "execution_count": null,
   "metadata": {},
   "outputs": [],
   "source": [
    "from minisom import MiniSom\n",
    "import numpy as np\n",
    "from sklearn.cluster import KMeans\n",
    "import matplotlib.pyplot as plt\n",
    "from pyclustering.cluster.xmeans import xmeans\n",
    "from pyclustering.cluster.center_initializer import kmeans_plusplus_initializer\n",
    "from sklearn.cluster import SpectralClustering\n",
    "#import cv2\n",
    "import os\n",
    "import re\n",
    "from sklearn.preprocessing import scale,StandardScaler,MinMaxScaler\n",
    "import pickle\n",
    "from matplotlib.patches import RegularPolygon, Ellipse\n",
    "from matplotlib import cm, colorbar\n",
    "from mpl_toolkits.axes_grid1 import make_axes_locatable\n",
    "import scipy.stats as ss\n",
    "import math\n",
    "import pandas as pd\n",
    "%matplotlib inline"
   ]
  },
  {
   "cell_type": "code",
   "execution_count": null,
   "metadata": {},
   "outputs": [],
   "source": [
    "pathms=r'/Volumes/jiarui/KyotoUdata/all/onedayms/sdnn' #path to saved figures\n",
    "filesmothers= os.listdir(pathms)\n",
    "pathcs=r'/Volumes/jiarui/KyotoUdata/all/onedaycs/sdnn'\n",
    "fileschilds= os.listdir(pathcs)\n",
    "\n",
    "pathmc=r'/Volumes/jiarui/KyotoUdata/all/onedayms/csi'\n",
    "filesmotherc= os.listdir(pathmc)\n",
    "pathcc=r'/Volumes/jiarui/KyotoUdata/all/onedaycs/csi'\n",
    "fileschildc= os.listdir(pathcc)\n",
    "\n",
    "pathmv=r'/Volumes/jiarui/KyotoUdata/all/onedayms/cvi'\n",
    "filesmotherv= os.listdir(pathmv)\n",
    "pathcv=r'/Volumes/jiarui/KyotoUdata/all/onedaycs/cvi'\n",
    "fileschildv= os.listdir(pathcv)"
   ]
  },
  {
   "cell_type": "code",
   "execution_count": null,
   "metadata": {},
   "outputs": [],
   "source": [
    "pathmcs=r'/Volumes/jiarui/KyotoUdata/all/onedaycrps/sdnn'\n",
    "filesmcs= os.listdir(pathmcs)\n",
    "\n",
    "\n",
    "pathmcc=r'/Volumes/jiarui/KyotoUdata/all/onedaycrps/csi'\n",
    "filesmcc= os.listdir(pathmcc)\n",
    "\n",
    "\n",
    "pathmcv=r'/Volumes/jiarui/KyotoUdata/all/onedaycrps/cvi'\n",
    "filesmcv= os.listdir(pathmcv)\n"
   ]
  },
  {
   "cell_type": "code",
   "execution_count": null,
   "metadata": {},
   "outputs": [],
   "source": [
    "len(filesmcv)"
   ]
  },
  {
   "cell_type": "code",
   "execution_count": null,
   "metadata": {},
   "outputs": [],
   "source": [
    "def ploto(path,files):\n",
    "    plt.figure(figsize=(25,20))\n",
    "    plt.tight_layout()\n",
    "    for i in range(len(files)):\n",
    "        plt.subplot(10, 6, i+1)\n",
    "        imgt = plt.imread(path+'\\\\'+files[i])\n",
    "        plt.imshow(imgt)\n",
    "        #plt.text(130,130,files[i].split('.')[0],ha='center',fontsize=16)\n",
    "        plt.axis('off')"
   ]
  },
  {
   "cell_type": "code",
   "execution_count": null,
   "metadata": {},
   "outputs": [],
   "source": [
    "#ploto(pathms,filesmothers)"
   ]
  },
  {
   "cell_type": "code",
   "execution_count": null,
   "metadata": {},
   "outputs": [],
   "source": [
    "#ploto(pathmc,filesmotherc)"
   ]
  },
  {
   "cell_type": "code",
   "execution_count": null,
   "metadata": {},
   "outputs": [],
   "source": [
    "#ploto(pathmv,filesmotherv)"
   ]
  },
  {
   "cell_type": "code",
   "execution_count": null,
   "metadata": {},
   "outputs": [],
   "source": [
    "#ploto(pathcs,fileschilds)"
   ]
  },
  {
   "cell_type": "code",
   "execution_count": null,
   "metadata": {},
   "outputs": [],
   "source": [
    "#ploto(pathcc,fileschildc)"
   ]
  },
  {
   "cell_type": "code",
   "execution_count": null,
   "metadata": {},
   "outputs": [],
   "source": [
    "#ploto(pathcv,fileschildv)"
   ]
  },
  {
   "cell_type": "code",
   "execution_count": null,
   "metadata": {},
   "outputs": [],
   "source": [
    "#ploto(pathmcs,filesmcs)"
   ]
  },
  {
   "cell_type": "code",
   "execution_count": null,
   "metadata": {},
   "outputs": [],
   "source": [
    "#ploto(pathmcc,filesmcc)"
   ]
  },
  {
   "cell_type": "code",
   "execution_count": null,
   "metadata": {},
   "outputs": [],
   "source": [
    "#ploto(pathmcv,filesmcv)"
   ]
  },
  {
   "cell_type": "code",
   "execution_count": null,
   "metadata": {},
   "outputs": [],
   "source": [
    "def preprocess(path,files):\n",
    "    imgt = plt.imread(path+'/'+files[0])\n",
    "    shapex=imgt.shape[0]\n",
    "    shapey=imgt.shape[1]\n",
    "    lenm=shapex*shapey*4\n",
    "    outmatrix=np.zeros((len(files),lenm))\n",
    "    for i in range(len(files)):\n",
    "        img = plt.imread(path+'/'+files[i])\n",
    "        pixels = np.reshape(img, (shapex*shapey, 4))\n",
    "        pixel = np.reshape(pixels, (len(pixels)*4, 1))\n",
    "        outmatrix[i,:]=pixel.ravel()\n",
    "    return outmatrix"
   ]
  },
  {
   "cell_type": "code",
   "execution_count": null,
   "metadata": {},
   "outputs": [],
   "source": [
    "#def preprocess(path,files):\n",
    "    #imgt = cv2.imread(path+'\\\\'+files[0],0)\n",
    "    #shapex=imgt.shape[0]\n",
    "    #shapey=imgt.shape[1]\n",
    "    #lenm=shapex*shapey\n",
    "    #outmatrix=np.zeros((len(files),lenm))\n",
    "    #for i in range(len(files)):\n",
    "        #img = cv2.imread(path+'\\\\'+files[i],0)\n",
    "        #pixels = np.reshape(img, (shapex*shapey, 1))\n",
    "        #outmatrix[i,:]=pixels.ravel()\n",
    "    #return outmatrix"
   ]
  },
  {
   "cell_type": "code",
   "execution_count": null,
   "metadata": {},
   "outputs": [],
   "source": [
    "def plotc(path,files):\n",
    "    plt.figure(figsize=(30,20))\n",
    "    plt.tight_layout()\n",
    "    for i in range(len(files)):\n",
    "        plt.subplot(6, 10, i+1)\n",
    "        imgt = plt.imread(path+'/'+files[i])\n",
    "        plt.imshow(imgt)\n",
    "        #plt.text(130,130,files[i].split('.')[0],ha='center',fontsize=16)\n",
    "        plt.axis('off')"
   ]
  },
  {
   "cell_type": "code",
   "execution_count": null,
   "metadata": {},
   "outputs": [],
   "source": [
    "plotc(pathms,filesmothers)"
   ]
  },
  {
   "cell_type": "code",
   "execution_count": null,
   "metadata": {},
   "outputs": [],
   "source": [
    "plotc(pathmc,filesmotherc)"
   ]
  },
  {
   "cell_type": "code",
   "execution_count": null,
   "metadata": {},
   "outputs": [],
   "source": [
    "plotc(pathmv,filesmotherv)"
   ]
  },
  {
   "cell_type": "code",
   "execution_count": null,
   "metadata": {},
   "outputs": [],
   "source": [
    "plotc(pathcs,fileschilds)"
   ]
  },
  {
   "cell_type": "code",
   "execution_count": null,
   "metadata": {},
   "outputs": [],
   "source": [
    "plotc(pathcc,fileschildc)"
   ]
  },
  {
   "cell_type": "code",
   "execution_count": null,
   "metadata": {},
   "outputs": [],
   "source": [
    "plotc(pathcv,fileschildv)"
   ]
  },
  {
   "cell_type": "code",
   "execution_count": null,
   "metadata": {},
   "outputs": [],
   "source": [
    "plotc(pathmcs,filesmcs)"
   ]
  },
  {
   "cell_type": "code",
   "execution_count": null,
   "metadata": {},
   "outputs": [],
   "source": [
    "plotc(pathmcc,filesmcc)"
   ]
  },
  {
   "cell_type": "code",
   "execution_count": null,
   "metadata": {},
   "outputs": [],
   "source": [
    "plotc(pathmcv,filesmcv)"
   ]
  },
  {
   "cell_type": "code",
   "execution_count": null,
   "metadata": {},
   "outputs": [],
   "source": [
    "datams=preprocess(pathms,filesmothers)\n",
    "datacs=preprocess(pathcs,fileschilds)\n",
    "\n",
    "datamc=preprocess(pathmc,filesmotherc)\n",
    "datacc=preprocess(pathcc,fileschildc)\n",
    "\n",
    "datamv=preprocess(pathmv,filesmotherv)\n",
    "datacv=preprocess(pathcv,fileschildv)"
   ]
  },
  {
   "cell_type": "code",
   "execution_count": null,
   "metadata": {},
   "outputs": [],
   "source": [
    "datamcs=preprocess(pathmcs,filesmcs)\n",
    "\n",
    "datamcc=preprocess(pathmcc,filesmcc)\n",
    "\n",
    "datamcv=preprocess(pathmcv,filesmcv)"
   ]
  },
  {
   "cell_type": "code",
   "execution_count": null,
   "metadata": {},
   "outputs": [],
   "source": [
    "scaler=StandardScaler()\n",
    "datamst=scaler.fit_transform(datams)\n",
    "datacst=scaler.fit_transform(datacs)\n",
    "\n",
    "datamct=scaler.fit_transform(datamc)\n",
    "datacct=scaler.fit_transform(datacc)\n",
    "\n",
    "datamvt=scaler.fit_transform(datamv)\n",
    "datacvt=scaler.fit_transform(datacv)"
   ]
  },
  {
   "cell_type": "code",
   "execution_count": null,
   "metadata": {},
   "outputs": [],
   "source": [
    "datamcst=scaler.fit_transform(datamcs)\n",
    "\n",
    "datamcct=scaler.fit_transform(datamcc)\n",
    "\n",
    "datamcvt=scaler.fit_transform(datamcv)"
   ]
  },
  {
   "cell_type": "code",
   "execution_count": null,
   "metadata": {},
   "outputs": [],
   "source": [
    "somms_shape = (4,4)\n",
    "somms = MiniSom(somms_shape[0], somms_shape[1], datamst.shape[1], sigma=3, learning_rate=.5,\n",
    "              neighborhood_function='triangle',random_seed=10)\n",
    "somms.train_batch(datamst, 900, verbose=True)"
   ]
  },
  {
   "cell_type": "code",
   "execution_count": null,
   "metadata": {},
   "outputs": [],
   "source": [
    "sommc_shape = (4,4)\n",
    "sommc = MiniSom(sommc_shape[0], sommc_shape[1], datamct.shape[1], sigma=3, learning_rate=.5,\n",
    "              neighborhood_function='triangle', random_seed=10)\n",
    "\n",
    "sommc.train_batch(datamct, 900, verbose=True)"
   ]
  },
  {
   "cell_type": "code",
   "execution_count": null,
   "metadata": {},
   "outputs": [],
   "source": [
    "sommv_shape = (4,4)\n",
    "sommv = MiniSom(sommv_shape[0], sommv_shape[1], datamvt.shape[1], sigma=3, learning_rate=.5,\n",
    "              neighborhood_function='triangle', random_seed=10)\n",
    "\n",
    "sommv.train_batch(datamvt, 900, verbose=True)"
   ]
  },
  {
   "cell_type": "code",
   "execution_count": null,
   "metadata": {},
   "outputs": [],
   "source": [
    "somcs_shape = (4,4)\n",
    "somcs = MiniSom(somcs_shape[0], somcs_shape[1], datacst.shape[1], sigma=3, learning_rate=.5,\n",
    "              neighborhood_function='triangle', random_seed=15)\n",
    "\n",
    "somcs.train_batch(datacst, 900, verbose=True)"
   ]
  },
  {
   "cell_type": "code",
   "execution_count": null,
   "metadata": {},
   "outputs": [],
   "source": [
    "somcc_shape = (4,4)\n",
    "somcc = MiniSom(somcc_shape[0], somcc_shape[1], datacct.shape[1], sigma=3, learning_rate=.5,\n",
    "              neighborhood_function='triangle', random_seed=15)\n",
    "\n",
    "somcc.train_batch(datacct, 900, verbose=True)"
   ]
  },
  {
   "cell_type": "code",
   "execution_count": null,
   "metadata": {},
   "outputs": [],
   "source": [
    "somcv_shape = (4,4)\n",
    "somcv = MiniSom(somcv_shape[0], somcv_shape[1], datacvt.shape[1], sigma=3, learning_rate=.5,\n",
    "              neighborhood_function='triangle', random_seed=15)\n",
    "\n",
    "somcv.train_batch(datacvt,900, verbose=True)"
   ]
  },
  {
   "cell_type": "code",
   "execution_count": null,
   "metadata": {},
   "outputs": [],
   "source": [
    "sommcs_shape = (4,4)\n",
    "sommcs = MiniSom(sommcs_shape[0], sommcs_shape[1], datamcst.shape[1], sigma=3, learning_rate=.5,\n",
    "              neighborhood_function='triangle',random_seed=10)\n",
    "sommcs.train_batch(datamcst, 900, verbose=True)"
   ]
  },
  {
   "cell_type": "code",
   "execution_count": null,
   "metadata": {},
   "outputs": [],
   "source": [
    "sommcc_shape = (4,4)\n",
    "sommcc = MiniSom(sommcc_shape[0], sommcc_shape[1], datamcct.shape[1], sigma=3, learning_rate=.5,\n",
    "              neighborhood_function='triangle',random_seed=10)\n",
    "sommcc.train_batch(datamcct, 900, verbose=True)"
   ]
  },
  {
   "cell_type": "code",
   "execution_count": null,
   "metadata": {},
   "outputs": [],
   "source": [
    "sommcv_shape = (4,4)\n",
    "sommcv = MiniSom(sommcv_shape[0], sommcv_shape[1], datamcvt.shape[1], sigma=3, learning_rate=.5,\n",
    "              neighborhood_function='triangle',random_seed=10)\n",
    "sommcv.train_batch(datamcvt, 900, verbose=True)"
   ]
  },
  {
   "cell_type": "code",
   "execution_count": null,
   "metadata": {},
   "outputs": [],
   "source": [
    "winner_coordinatesms = np.array([somms.winner(x) for x in datamst]).T\n",
    "cluster_indexms = np.ravel_multi_index(winner_coordinatesms, somms_shape)"
   ]
  },
  {
   "cell_type": "code",
   "execution_count": null,
   "metadata": {},
   "outputs": [],
   "source": [
    "winner_coordinatesmc = np.array([sommc.winner(x) for x in datamct]).T\n",
    "cluster_indexmc = np.ravel_multi_index(winner_coordinatesmc, sommc_shape)"
   ]
  },
  {
   "cell_type": "code",
   "execution_count": null,
   "metadata": {},
   "outputs": [],
   "source": [
    "winner_coordinatesmv = np.array([sommv.winner(x) for x in datamvt]).T\n",
    "cluster_indexmv = np.ravel_multi_index(winner_coordinatesmv, sommv_shape)"
   ]
  },
  {
   "cell_type": "code",
   "execution_count": null,
   "metadata": {},
   "outputs": [],
   "source": [
    "winner_coordinatescs = np.array([somcs.winner(x) for x in datacst]).T\n",
    "cluster_indexcs = np.ravel_multi_index(winner_coordinatescs, somcs_shape)"
   ]
  },
  {
   "cell_type": "code",
   "execution_count": null,
   "metadata": {},
   "outputs": [],
   "source": [
    "winner_coordinatescc = np.array([somcc.winner(x) for x in datacct]).T\n",
    "cluster_indexcc = np.ravel_multi_index(winner_coordinatescc, somcc_shape)"
   ]
  },
  {
   "cell_type": "code",
   "execution_count": null,
   "metadata": {},
   "outputs": [],
   "source": [
    "winner_coordinatescv = np.array([somcv.winner(x) for x in datacvt]).T\n",
    "cluster_indexcv = np.ravel_multi_index(winner_coordinatescv, somcv_shape)"
   ]
  },
  {
   "cell_type": "code",
   "execution_count": null,
   "metadata": {},
   "outputs": [],
   "source": [
    "winner_coordinatesmcs = np.array([sommcs.winner(x) for x in datamcst]).T\n",
    "cluster_indexmcs = np.ravel_multi_index(winner_coordinatesmcs, sommcs_shape)"
   ]
  },
  {
   "cell_type": "code",
   "execution_count": null,
   "metadata": {},
   "outputs": [],
   "source": [
    "winner_coordinatesmcc = np.array([sommcc.winner(x) for x in datamcct]).T\n",
    "cluster_indexmcc = np.ravel_multi_index(winner_coordinatesmcc, sommcc_shape)"
   ]
  },
  {
   "cell_type": "code",
   "execution_count": null,
   "metadata": {},
   "outputs": [],
   "source": [
    "winner_coordinatesmcv = np.array([sommcv.winner(x) for x in datamcvt]).T\n",
    "cluster_indexmcv = np.ravel_multi_index(winner_coordinatesmcv, sommcv_shape)"
   ]
  },
  {
   "cell_type": "code",
   "execution_count": null,
   "metadata": {},
   "outputs": [],
   "source": [
    "weightms = somms.get_weights()\n",
    "weightmc = sommc.get_weights()\n",
    "weightmv = sommv.get_weights()\n",
    "weightcs = somcs.get_weights()\n",
    "weightcc = somcc.get_weights()\n",
    "weightcv = somcv.get_weights()\n",
    "\n",
    "weightmcs = sommcs.get_weights()\n",
    "weightmcc = sommcc.get_weights()\n",
    "weightmcv = sommcv.get_weights()"
   ]
  },
  {
   "cell_type": "code",
   "execution_count": null,
   "metadata": {},
   "outputs": [],
   "source": [
    "len(weightms[:])"
   ]
  },
  {
   "cell_type": "code",
   "execution_count": null,
   "metadata": {},
   "outputs": [],
   "source": [
    "def neuron_a(weightin,coorin,datain): # neuron activity mean 9\n",
    "    neurona=np.zeros((len(datain[:,0]),1))\n",
    "    for i in range(len(coorin[0])):\n",
    "        coordinx=int(coorin[0][i])\n",
    "        coordiny=int(coorin[1][i])\n",
    "        disx=[-1,0,1,-1,0,1,-1,0,1]\n",
    "        disy=[-1,-1,-1,0,0,0,1,1,1]\n",
    "        xcor=disx+np.array(coordinx)\n",
    "        ycor=disy+np.array(coordiny)\n",
    "        cor=np.c_[xcor,ycor]\n",
    "        #print(coordinx,coordiny)\n",
    "        w=np.zeros((9,len(weightin[0][0])))\n",
    "        for j in range(len(xcor)):\n",
    "            if xcor[j]>=0 and ycor[j]>=0 and xcor[j]<5 and ycor[j]<7:\n",
    "                w[j,:]=weightin[xcor[j],ycor[j]]\n",
    "        count=0\n",
    "        dis=0\n",
    "        for k in range(len(xcor)):\n",
    "            if sum(w[k,:])!=0:\n",
    "                dis=dis+math.dist(datain[i,:],w[k,:])\n",
    "                #print(dis)\n",
    "                count=count+1\n",
    "        #print(coordinx,coordiny,count)\n",
    "        neurona[i,0]=dis/count\n",
    "    return neurona"
   ]
  },
  {
   "cell_type": "code",
   "execution_count": null,
   "metadata": {},
   "outputs": [],
   "source": [
    "len(weightms[:][0])"
   ]
  },
  {
   "cell_type": "code",
   "execution_count": null,
   "metadata": {},
   "outputs": [],
   "source": [
    "def neuron_all(weightin,coorin,datain): # neuron activity all\n",
    "    neurona=np.zeros((len(datain[:,0]),16))\n",
    "    for i in range(len(datain[:,0])):\n",
    "        for j in range(len(weightin[:])):\n",
    "            for k in range(len(weightin[0])): \n",
    "                dis=math.dist(datain[i,:],weightin[j,k])\n",
    "                #print(i,j*4+k)\n",
    "                neurona[i,j*4+k]=dis\n",
    "    return neurona"
   ]
  },
  {
   "cell_type": "code",
   "execution_count": null,
   "metadata": {},
   "outputs": [],
   "source": [
    "neuronms=neuron_all(weightms,winner_coordinatesms,datamst)\n",
    "neuronmc=neuron_all(weightmc,winner_coordinatesmc,datamct)\n",
    "neuronmv=neuron_all(weightmv,winner_coordinatesmv,datamvt)\n",
    "neuroncs=neuron_all(weightcs,winner_coordinatescs,datacst)\n",
    "neuroncc=neuron_all(weightcc,winner_coordinatescc,datacct)\n",
    "neuroncv=neuron_all(weightcv,winner_coordinatescv,datacvt)\n"
   ]
  },
  {
   "cell_type": "code",
   "execution_count": null,
   "metadata": {},
   "outputs": [],
   "source": [
    "\n",
    "neuronmcs=neuron_all(weightmcs,winner_coordinatesmcs,datamcst)\n",
    "neuronmcc=neuron_all(weightmcc,winner_coordinatesmcc,datamcct)\n",
    "neuronmcv=neuron_all(weightmcv,winner_coordinatesmcv,datamcvt)"
   ]
  },
  {
   "cell_type": "code",
   "execution_count": null,
   "metadata": {},
   "outputs": [],
   "source": [
    "datamcvt[9]"
   ]
  },
  {
   "cell_type": "code",
   "execution_count": null,
   "metadata": {},
   "outputs": [],
   "source": [
    "def namedis(filesname,neuronin): #name 9neighbor\n",
    "    outnn=np.zeros((len(filesname),2))\n",
    "    for i in range(len(filesname)):\n",
    "        num=re.findall(\"\\d+\",filesname[i])\n",
    "        outnn[i,0]=np.array(num)\n",
    "        outnn[i,1]=neuronin[i,0]\n",
    "    return outnn"
   ]
  },
  {
   "cell_type": "code",
   "execution_count": null,
   "metadata": {},
   "outputs": [],
   "source": [
    "def namedisall(filesname,neuronin): #name 9neighbor\n",
    "    outnn=np.zeros((len(filesname),17))\n",
    "    for i in range(len(filesname)):\n",
    "        num=re.findall(\"\\d+\",filesname[i])\n",
    "        outnn[i,0]=np.array(num)\n",
    "        outnn[i,1:]=neuronin[i,:]\n",
    "    return outnn"
   ]
  },
  {
   "cell_type": "code",
   "execution_count": null,
   "metadata": {},
   "outputs": [],
   "source": [
    "msr=namedisall(filesmothers,neuronms)\n",
    "mcr=namedisall(filesmotherc,neuronmc)\n",
    "mvr=namedisall(filesmotherv,neuronmv)\n",
    "\n",
    "csr=namedisall(fileschilds,neuroncs)\n",
    "ccr=namedisall(fileschildc,neuroncc)\n",
    "cvr=namedisall(fileschildv,neuroncv)\n",
    "\n",
    "mcsr=namedisall(filesmcs,neuronmcs)\n",
    "mccr=namedisall(filesmcc,neuronmcc)\n",
    "mcvr=namedisall(filesmcv,neuronmcv)"
   ]
  },
  {
   "cell_type": "code",
   "execution_count": null,
   "metadata": {},
   "outputs": [],
   "source": [
    "def somplot(path,filesname,cluster):\n",
    "    listfigure=[]\n",
    "    ttt=10000\n",
    "    for j in range(35):\n",
    "        mmm=np.where(cluster==j)\n",
    "        mmm0=mmm[0]\n",
    "        if len(mmm0)==0:\n",
    "            listfigure.append(ttt)\n",
    "        else:\n",
    "            listfigure.append(filesname[mmm0[0]])\n",
    "    plt.figure(figsize=(20,25))\n",
    "    plt.tight_layout()\n",
    "    for i in range (35):\n",
    "        if listfigure[i]!=ttt:\n",
    "            yy=i//7\n",
    "            xx=i%7\n",
    "            if xx==6:\n",
    "                xx1=0\n",
    "            if xx==5:\n",
    "                xx1=1\n",
    "            if xx==4:\n",
    "                xx1=2\n",
    "            if xx==3:\n",
    "                xx1=3\n",
    "            if xx==2:\n",
    "                xx1=4\n",
    "            if xx==1:\n",
    "                xx1=5\n",
    "            if xx==0:\n",
    "                xx1=6\n",
    "            jj=xx1*5+yy\n",
    "            plt.subplot(7, 5, jj+1)\n",
    "            imgt = plt.imread(path+'/'+listfigure[i])\n",
    "            plt.imshow(imgt)\n",
    "            plt.text(125,125,listfigure[i].split('.')[0],ha='center',fontsize=16)\n",
    "        plt.axis('off')"
   ]
  },
  {
   "cell_type": "code",
   "execution_count": null,
   "metadata": {},
   "outputs": [],
   "source": [
    "def somplotsquare(path,filesname,cluster):\n",
    "    listfigure=[]\n",
    "    ttt=10000\n",
    "    for j in range(16):\n",
    "        mmm=np.where(cluster==j)\n",
    "        mmm0=mmm[0]\n",
    "        if len(mmm0)==0:\n",
    "            listfigure.append(ttt)\n",
    "        else:\n",
    "            listfigure.append(filesname[mmm0[0]])\n",
    "    plt.figure(figsize=(16,16))\n",
    "    plt.tight_layout()\n",
    "    for i in range (16):\n",
    "        if listfigure[i]!=ttt:\n",
    "            yy=i//4\n",
    "            xx=i%4\n",
    "            if xx==3:\n",
    "                xx1=0\n",
    "            if xx==2:\n",
    "                xx1=1\n",
    "            if xx==1:\n",
    "                xx1=2\n",
    "            if xx==0:\n",
    "                xx1=3\n",
    "            jj=xx1*4+yy\n",
    "            plt.subplot(4, 4, jj+1)\n",
    "            imgt = plt.imread(path+'/'+listfigure[i])\n",
    "            plt.imshow(imgt)\n",
    "            #plt.text(125,125,listfigure[i].split('.')[0],ha='center',fontsize=16)\n",
    "        plt.axis('off')"
   ]
  },
  {
   "cell_type": "code",
   "execution_count": null,
   "metadata": {},
   "outputs": [],
   "source": [
    "def somploto(path,filesname,cluster):\n",
    "    listfigure=[]\n",
    "    ttt=10000\n",
    "    for j in range(16):\n",
    "        mmm=np.where(cluster==j)\n",
    "        mmm0=mmm[0]\n",
    "        if len(mmm0)==0:\n",
    "            listfigure.append(ttt)\n",
    "        else:\n",
    "            listfigure.append(filesname[mmm0[0]])\n",
    "    plt.figure(figsize=(25,20))\n",
    "    plt.tight_layout()\n",
    "    for i in range (16):\n",
    "        if listfigure[i]!=ttt:\n",
    "            plt.subplot(4, 4, i+1)\n",
    "            imgt = plt.imread(path+'/'+listfigure[i])\n",
    "            plt.imshow(imgt)\n",
    "            plt.text(125,125,listfigure[i].split('.')[0],ha='center',fontsize=16)\n",
    "        plt.axis('off')"
   ]
  },
  {
   "cell_type": "code",
   "execution_count": null,
   "metadata": {
    "scrolled": false
   },
   "outputs": [],
   "source": [
    "somplotsquare(pathms,filesmothers,cluster_indexms)\n",
    "#somploto(pathms,filesmothers,cluster_indexms)"
   ]
  },
  {
   "cell_type": "code",
   "execution_count": null,
   "metadata": {},
   "outputs": [],
   "source": [
    "plt.pcolor(somms.distance_map(scaling='mean').T, cmap='bone_r',vmin=0.6,vmax=1)  # plotting the distance map as background\n",
    "cbar = plt.colorbar()\n",
    "cbar.ax.tick_params(labelsize=22)  # Adjust the label font size\n",
    "\n",
    "# Setting other font sizes globally\n",
    "plt.rc('xtick', labelsize=22)  # X-tick font size\n",
    "plt.rc('ytick', labelsize=22)  # Y-tick font size"
   ]
  },
  {
   "cell_type": "code",
   "execution_count": null,
   "metadata": {},
   "outputs": [],
   "source": [
    "somplotsquare(pathmc,filesmotherc,cluster_indexmc)\n",
    "#somploto(pathmc,filesmotherc,cluster_indexmc)"
   ]
  },
  {
   "cell_type": "code",
   "execution_count": null,
   "metadata": {},
   "outputs": [],
   "source": [
    "plt.pcolor(sommc.distance_map(scaling='mean').T, cmap='bone_r',vmin=0.6,vmax=1)  # plotting the distance map as background\n",
    "cbar = plt.colorbar()\n",
    "cbar.ax.tick_params(labelsize=22)  # Adjust the label font size\n",
    "\n",
    "# Setting other font sizes globally\n",
    "plt.rc('xtick', labelsize=22)  # X-tick font size\n",
    "plt.rc('ytick', labelsize=22)  # Y-tick font size"
   ]
  },
  {
   "cell_type": "code",
   "execution_count": null,
   "metadata": {},
   "outputs": [],
   "source": [
    "somplotsquare(pathmv,filesmotherv,cluster_indexmv)\n",
    "#somploto(pathmv,filesmotherv,cluster_indexmv)"
   ]
  },
  {
   "cell_type": "code",
   "execution_count": null,
   "metadata": {},
   "outputs": [],
   "source": [
    "plt.pcolor(sommv.distance_map(scaling='mean').T, cmap='bone_r',vmin=0.6,vmax=1)  # plotting the distance map as background\n",
    "cbar = plt.colorbar()\n",
    "cbar.ax.tick_params(labelsize=22)  # Adjust the label font size\n",
    "\n",
    "# Setting other font sizes globally\n",
    "plt.rc('xtick', labelsize=22)  # X-tick font size\n",
    "plt.rc('ytick', labelsize=22)  # Y-tick font size"
   ]
  },
  {
   "cell_type": "code",
   "execution_count": null,
   "metadata": {},
   "outputs": [],
   "source": [
    "somplotsquare(pathcs,fileschilds,cluster_indexcs)\n",
    "#somploto(pathcs,fileschilds,cluster_indexcs)"
   ]
  },
  {
   "cell_type": "code",
   "execution_count": null,
   "metadata": {},
   "outputs": [],
   "source": [
    "plt.pcolor(somcs.distance_map(scaling='mean').T, cmap='bone_r',vmin=0.6,vmax=1)  # plotting the distance map as background\n",
    "cbar = plt.colorbar()\n",
    "cbar.ax.tick_params(labelsize=22)  # Adjust the label font size\n",
    "\n",
    "# Setting other font sizes globally\n",
    "plt.rc('xtick', labelsize=22)  # X-tick font size\n",
    "plt.rc('ytick', labelsize=22)  # Y-tick font size"
   ]
  },
  {
   "cell_type": "code",
   "execution_count": null,
   "metadata": {},
   "outputs": [],
   "source": [
    "somplotsquare(pathcc,fileschildc,cluster_indexcc)\n",
    "#somploto(pathcc,fileschildc,cluster_indexcc)"
   ]
  },
  {
   "cell_type": "code",
   "execution_count": null,
   "metadata": {},
   "outputs": [],
   "source": [
    "plt.pcolor(sommcc.distance_map(scaling='mean').T, cmap='bone_r',vmin=0.6,vmax=1)  # plotting the distance map as background\n",
    "cbar = plt.colorbar()\n",
    "cbar.ax.tick_params(labelsize=22)  # Adjust the label font size\n",
    "\n",
    "# Setting other font sizes globally\n",
    "plt.rc('xtick', labelsize=22)  # X-tick font size\n",
    "plt.rc('ytick', labelsize=22)  # Y-tick font size"
   ]
  },
  {
   "cell_type": "code",
   "execution_count": null,
   "metadata": {},
   "outputs": [],
   "source": [
    "somplotsquare(pathcv,fileschildv,cluster_indexcv)\n",
    "#somploto(pathcv,fileschildv,cluster_indexcv)"
   ]
  },
  {
   "cell_type": "code",
   "execution_count": null,
   "metadata": {},
   "outputs": [],
   "source": [
    "plt.pcolor(somcv.distance_map(scaling='mean').T, cmap='bone_r',vmin=0.6,vmax=1)  # plotting the distance map as background\n",
    "cbar = plt.colorbar()\n",
    "cbar.ax.tick_params(labelsize=22)  # Adjust the label font size\n",
    "\n",
    "# Setting other font sizes globally\n",
    "plt.rc('xtick', labelsize=22)  # X-tick font size\n",
    "plt.rc('ytick', labelsize=22)  # Y-tick font size"
   ]
  },
  {
   "cell_type": "code",
   "execution_count": null,
   "metadata": {},
   "outputs": [],
   "source": [
    "somplotsquare(pathmcs,filesmcs,cluster_indexmcs)\n",
    "#somploto(pathmcs,filesmcs,cluster_indexmcs)"
   ]
  },
  {
   "cell_type": "code",
   "execution_count": null,
   "metadata": {},
   "outputs": [],
   "source": [
    "plt.pcolor(sommcs.distance_map(scaling='mean').T, cmap='bone_r',vmin=0.6,vmax=1)  # plotting the distance map as background\n",
    "cbar = plt.colorbar()\n",
    "cbar.ax.tick_params(labelsize=22)  # Adjust the label font size\n",
    "\n",
    "# Setting other font sizes globally\n",
    "plt.rc('xtick', labelsize=22)  # X-tick font size\n",
    "plt.rc('ytick', labelsize=22)  # Y-tick font size"
   ]
  },
  {
   "cell_type": "code",
   "execution_count": null,
   "metadata": {},
   "outputs": [],
   "source": [
    "somplotsquare(pathmcc,filesmcc,cluster_indexmcc)\n",
    "#somploto(pathmcc,filesmcc,cluster_indexmcc)"
   ]
  },
  {
   "cell_type": "code",
   "execution_count": null,
   "metadata": {},
   "outputs": [],
   "source": [
    "plt.pcolor(sommcc.distance_map(scaling='mean').T, cmap='bone_r',vmin=0.6,vmax=1)  # plotting the distance map as background\n",
    "cbar = plt.colorbar()\n",
    "cbar.ax.tick_params(labelsize=22)  # Adjust the label font size\n",
    "\n",
    "# Setting other font sizes globally\n",
    "plt.rc('xtick', labelsize=22)  # X-tick font size\n",
    "plt.rc('ytick', labelsize=22)  # Y-tick font size"
   ]
  },
  {
   "cell_type": "code",
   "execution_count": null,
   "metadata": {},
   "outputs": [],
   "source": [
    "somplotsquare(pathmcv,filesmcv,cluster_indexmcv)\n",
    "#somploto(pathmcv,filesmcv,cluster_indexmcv)"
   ]
  },
  {
   "cell_type": "code",
   "execution_count": null,
   "metadata": {},
   "outputs": [],
   "source": [
    "plt.pcolor(sommcv.distance_map(scaling='mean').T, cmap='bone_r',vmin=0.6,vmax=1)  # plotting the distance map as background\n",
    "cbar = plt.colorbar()\n",
    "cbar.ax.tick_params(labelsize=16)  # Adjust the label font size\n",
    "\n",
    "# Setting other font sizes globally\n",
    "plt.rc('xtick', labelsize=16)  # X-tick font size\n",
    "plt.rc('ytick', labelsize=16)  # Y-tick font size"
   ]
  },
  {
   "cell_type": "code",
   "execution_count": null,
   "metadata": {},
   "outputs": [],
   "source": [
    "pathindex=r'/Volumes/jiarui/KyotoUdata/all'\n",
    "indexfile= pd.read_csv(r'/Volumes/jiarui/KyotoUdata/all/index.csv')"
   ]
  },
  {
   "cell_type": "code",
   "execution_count": null,
   "metadata": {},
   "outputs": [],
   "source": [
    "def indtable(indexdata,cldata): # 9neighbor sizet[0,:] clusterno,sizet[0,1] psi\n",
    "    No=indexdata['No']\n",
    "    PSI=indexdata['PSI_total']\n",
    "    #PSI=indexdata['PSI_P']\n",
    "    txt = cldata[:,0]\n",
    "    sizet=np.zeros((len(txt),3))\n",
    "    for j in range(len(txt)):\n",
    "        nameno=int(np.array(txt[j]))//10\n",
    "        idn=np.where(No==nameno)\n",
    "        idn0=idn[0]\n",
    "        sizet[j,0]=cldata[j,1] #dis\n",
    "        sizet[j,1]=PSI[idn0] #psi\n",
    "        sizet[j,2]=cldata[j,0] #name\n",
    "    return sizet"
   ]
  },
  {
   "cell_type": "code",
   "execution_count": null,
   "metadata": {},
   "outputs": [],
   "source": [
    "def indtableall(indexdata,cldata): # 9neighbor sizet[0,:] clusterno,sizet[0,1] psi\n",
    "    No=indexdata['No']\n",
    "    PSI=indexdata['PSI_total']\n",
    "    #PSI=indexdata['PSI_C']\n",
    "    txt = cldata[:,0]\n",
    "    sizet=np.zeros((len(txt),18))\n",
    "    for j in range(len(txt)):\n",
    "        nameno=int(np.array(txt[j]))//10\n",
    "        idn=np.where(No==nameno)\n",
    "        idn0=idn[0]\n",
    "        sizet[j,0]=cldata[j,0] #name\n",
    "        sizet[j,1]=PSI[idn0] #psi\n",
    "        sizet[j,2:]=cldata[j,1:] #dis\n",
    "    return sizet"
   ]
  },
  {
   "cell_type": "code",
   "execution_count": null,
   "metadata": {},
   "outputs": [],
   "source": [
    "sizems=indtableall(indexfile,msr)\n",
    "sizemc=indtableall(indexfile,mcr)\n",
    "sizemv=indtableall(indexfile,mvr)\n",
    "sizecs=indtableall(indexfile,csr)\n",
    "sizecc=indtableall(indexfile,ccr)\n",
    "sizecv=indtableall(indexfile,cvr)\n",
    "\n",
    "sizemcs=indtableall(indexfile,mcsr)\n",
    "sizemcc=indtableall(indexfile,mccr)\n",
    "sizemcv=indtableall(indexfile,mcvr)"
   ]
  },
  {
   "cell_type": "code",
   "execution_count": null,
   "metadata": {},
   "outputs": [],
   "source": [
    "sizems[:,2]"
   ]
  },
  {
   "cell_type": "code",
   "execution_count": null,
   "metadata": {},
   "outputs": [],
   "source": [
    "len(sizems)"
   ]
  },
  {
   "cell_type": "code",
   "execution_count": null,
   "metadata": {},
   "outputs": [],
   "source": [
    "def remove1(sizein):\n",
    "    psi=[]\n",
    "    dis=[]\n",
    "    name=[]\n",
    "    psio=[]\n",
    "    diso=[]\n",
    "    nameo=[]\n",
    "    for i in range(len(sizein[:,0])):\n",
    "        if sizein[i,1]!=1:\n",
    "            psi.append(sizein[i,1])\n",
    "            dis.append(sizein[i,0])\n",
    "            name.append(sizein[i,2])\n",
    "    psia=np.array(psi)\n",
    "    disa=np.array(dis)\n",
    "    namea=np.array(name)\n",
    "    meanpsi=np.mean(psia)\n",
    "    stdpsi=np.std(psia)\n",
    "    high=meanpsi+2*stdpsi\n",
    "    low=meanpsi-2*stdpsi\n",
    "    print(high,low)\n",
    "    #Q1=np.percentile(psia,25)\n",
    "    #Q3=np.percentile(psia,75)\n",
    "    #IQR=Q3-Q1\n",
    "    #outlier_step=1.5*IQR\n",
    "    #print(Q3+outlier_step)\n",
    "    for k in range(len(psia)):\n",
    "        if (psia[k]<low)|(psia[k]>high):\n",
    "            psia[k]=-1000\n",
    "    for kk in range(len(psia)):\n",
    "        if psia[kk]!=-1000:\n",
    "            psio.append(psia[kk])\n",
    "            diso.append(disa[kk])\n",
    "            nameo.append(namea[kk])\n",
    "    return psio,diso,nameo"
   ]
  },
  {
   "cell_type": "code",
   "execution_count": null,
   "metadata": {},
   "outputs": [],
   "source": [
    "def remove1all(sizein):\n",
    "    ind1=np.where(sizein[:,1]!=1)\n",
    "    ind10=ind1[0]\n",
    "    sizeout=sizein[ind10,:]\n",
    "    sizeouto=sizeout.copy()\n",
    "    psi=sizeout[:,1]\n",
    "    meanpsi=np.mean(psi)\n",
    "    stdpsi=np.std(psi)\n",
    "    high=meanpsi+2*stdpsi\n",
    "    low=meanpsi-2*stdpsi\n",
    "    #print(high,low)\n",
    "    #Q1=np.percentile(psia,25)\n",
    "    #Q3=np.percentile(psia,75)\n",
    "    #IQR=Q3-Q1\n",
    "    #outlier_step=1.5*IQR\n",
    "    #print(Q3+outlier_step)\n",
    "    #for k in range(len(psi)):\n",
    "        #if (psi[k]<low)|(psi[k]>high):\n",
    "            #psi[k]=-1000\n",
    "            \n",
    "    #ind1000=np.where(psi!=-1000)\n",
    "    #ind10000=ind1000[0]\n",
    "    #print(ind10000)\n",
    "    #sizeoutt=sizeout[ind10000,:]\n",
    "    return sizeouto"
   ]
  },
  {
   "cell_type": "code",
   "execution_count": null,
   "metadata": {},
   "outputs": [],
   "source": [
    "#psims,disms,namems=remove1(sizems)\n",
    "#psimc,dismc,namemc=remove1(sizemc)\n",
    "#psimv,dismv,namemv=remove1(sizemv)\n",
    "#psics,discs,namecs=remove1(sizecs)\n",
    "#psicc,discc,namecc=remove1(sizecc)\n",
    "#psicv,discv,namecv=remove1(sizecv)\n",
    "\n",
    "#psimcs,dismcs,namemcs=remove1(sizemcs)\n",
    "#psimcc,dismcc,namemcc=remove1(sizemcc)\n",
    "#psimcv,dismcv,namemcv=remove1(sizemcv)"
   ]
  },
  {
   "cell_type": "code",
   "execution_count": null,
   "metadata": {},
   "outputs": [],
   "source": [
    "psims=remove1all(sizems)\n",
    "psimc=remove1all(sizemc)\n",
    "psimv=remove1all(sizemv)\n",
    "psics=remove1all(sizecs)\n",
    "psicc=remove1all(sizecc)\n",
    "psicv=remove1all(sizecv)\n",
    "\n",
    "psimcs=remove1all(sizemcs)\n",
    "psimcc=remove1all(sizemcc)\n",
    "psimcv=remove1all(sizemcv)"
   ]
  },
  {
   "cell_type": "code",
   "execution_count": null,
   "metadata": {},
   "outputs": [],
   "source": [
    "psimcs[:,2]"
   ]
  },
  {
   "cell_type": "code",
   "execution_count": null,
   "metadata": {},
   "outputs": [],
   "source": [
    "\n",
    "import statsmodels.api as sm"
   ]
  },
  {
   "cell_type": "code",
   "execution_count": null,
   "metadata": {},
   "outputs": [],
   "source": [
    "xms=pd.DataFrame(psims[:,2:])\n",
    "yms=pd.DataFrame(psims[:,1])\n",
    "Xms=sm.add_constant(xms)\n",
    "modelms=sm.OLS(yms,Xms).fit()\n",
    "\n",
    "xmc=pd.DataFrame(psimc[:,2:])\n",
    "ymc=pd.DataFrame(psimc[:,1])\n",
    "Xmc=sm.add_constant(xmc)\n",
    "modelmc=sm.OLS(ymc,Xmc).fit()\n",
    "\n",
    "xmv=pd.DataFrame(psimv[:,2:])\n",
    "ymv=pd.DataFrame(psimv[:,1])\n",
    "Xmv=sm.add_constant(xmv)\n",
    "modelmv=sm.OLS(ymv,Xmv).fit()\n",
    "\n",
    "xcs=pd.DataFrame(psics[:,2:])\n",
    "ycs=pd.DataFrame(psics[:,1])\n",
    "Xcs=sm.add_constant(xcs)\n",
    "modelcs=sm.OLS(ycs,Xcs).fit()\n",
    "\n",
    "xcc=pd.DataFrame(psicc[:,2:])\n",
    "ycc=pd.DataFrame(psicc[:,1])\n",
    "Xcc=sm.add_constant(xcc)\n",
    "modelcc=sm.OLS(ycc,Xcc).fit()\n",
    "\n",
    "xcv=pd.DataFrame(psicv[:,2:])\n",
    "ycv=pd.DataFrame(psicv[:,1])\n",
    "Xcv=sm.add_constant(xcv)\n",
    "modelcv=sm.OLS(ycv,Xcv).fit()\n",
    "\n",
    "xmcs=pd.DataFrame(psimcs[:,2:])\n",
    "ymcs=pd.DataFrame(psimcs[:,1])\n",
    "Xmcs=sm.add_constant(xmcs)\n",
    "modelmcs=sm.OLS(ymcs,Xmcs).fit()\n",
    "\n",
    "xmcc=pd.DataFrame(psimcc[:,2:])\n",
    "ymcc=pd.DataFrame(psimcc[:,1])\n",
    "Xmcc=sm.add_constant(xmcc)\n",
    "modelmcc=sm.OLS(ymcc,Xmcc).fit()\n",
    "\n",
    "xmcv=pd.DataFrame(psimcv[:,2:])\n",
    "ymcv=pd.DataFrame(psimcv[:,1])\n",
    "Xmcv=sm.add_constant(xmcv)\n",
    "modelmcv=sm.OLS(ymcv,Xmcv).fit()"
   ]
  },
  {
   "cell_type": "code",
   "execution_count": null,
   "metadata": {},
   "outputs": [],
   "source": [
    "# Extract PSI and create a dataframe\n",
    "y_plot = pd.DataFrame(psims[:, 1], columns=['PSI'])\n",
    "\n",
    "# Sort the PSI values\n",
    "y_sorted = y_plot.sort_values(by='PSI').reset_index(drop=True)\n",
    "\n",
    "# Plot settings\n",
    "plt.figure(figsize=(10, 6))\n",
    "plt.scatter(y_sorted.index + 1, y_sorted['PSI'], label='PSI values')  # Add 1 to index for subject numbering\n",
    "plt.axhline(y=221, color='r', linestyle='--', label='Cut off = 221')\n",
    "\n",
    "# Add text\n",
    "plt.text(x=5, y=221 + 5, s='Cut off = 221', fontsize=18, color='red', ha='center')\n",
    "\n",
    "# Labels and title\n",
    "plt.xlabel('Subject Number', fontsize=18)\n",
    "plt.ylabel('PSI', fontsize=18)\n",
    "#plt.title('PSI Values by Subject', fontsize=18)\n",
    "\n",
    "# Customize ticks\n",
    "plt.xticks(fontsize=18)\n",
    "plt.yticks(fontsize=18)\n",
    "\n",
    "# Legend\n",
    "#plt.legend(fontsize=18)\n",
    "\n",
    "# Show plot\n",
    "plt.tight_layout()\n",
    "plt.show()"
   ]
  },
  {
   "cell_type": "code",
   "execution_count": null,
   "metadata": {},
   "outputs": [],
   "source": [
    "from scipy.stats import gaussian_kde"
   ]
  },
  {
   "cell_type": "code",
   "execution_count": null,
   "metadata": {},
   "outputs": [],
   "source": [
    "def plotmul(xin, yin, modelin):\n",
    "    \n",
    "    predicted = modelin.predict(xin)  # Predicted values\n",
    "    actual = yin.values.flatten()  # Actual values\n",
    "\n",
    "    # Calculate residuals and residual standard deviation\n",
    "    residuals = actual - predicted\n",
    "    residual_std = residuals.std()\n",
    "\n",
    "    # Define fixed tolerance (epsilon) based on residuals\n",
    "    k = 1.645  # Multiplier for 95% confidence\n",
    "    epsilon = k * residual_std\n",
    "\n",
    "    # Define upper and lower bounds parallel to the ideal line\n",
    "    x_min, x_max = actual.min(), actual.max()  # X-axis range (Actual Y values)\n",
    "    upper_bound = np.array([x_min + epsilon, x_max + epsilon])\n",
    "    lower_bound = np.array([x_min - epsilon, x_max - epsilon])\n",
    "\n",
    "    # Extract model stats\n",
    "    r2 = modelin.rsquared\n",
    "    p_value = modelin.f_pvalue\n",
    "\n",
    "    # Plot actual vs predicted scatter plot with tolerance range\n",
    "    plt.figure(figsize=(8, 6))\n",
    "    plt.scatter(actual, predicted, alpha=0.7, edgecolors='k', label=\"Data Points\")\n",
    "    plt.plot([actual.min(), actual.max()], [actual.min(), actual.max()], 'r--', label=\"Ideal Fit (Y = Y_pred)\")\n",
    "\n",
    "    # Add sloped shaded region\n",
    "    plt.fill_between(\n",
    "        [x_min, x_max],\n",
    "        lower_bound,\n",
    "        upper_bound,\n",
    "        color='gray',\n",
    "        alpha=0.2,\n",
    "        label=f\"Tolerance Range (±{k}σ)\"\n",
    "    )\n",
    "    plt.xlim(100,300)\n",
    "    plt.ylim(100,300)\n",
    "    # Annotate the plot\n",
    "    plt.title(f\"Actual vs Predicted\\nR2: {r2:.2f}, p-value: {p_value:.2e}\")\n",
    "    plt.xlabel(\"Actual Y\")\n",
    "    plt.ylabel(\"Predicted Y\")\n",
    "    plt.legend()\n",
    "    #plt.grid(True)\n",
    "    plt.show()"
   ]
  },
  {
   "cell_type": "code",
   "execution_count": null,
   "metadata": {},
   "outputs": [],
   "source": [
    "def plot_residuals(xin, yin, modeling, global_std=None, k=1.96):\n",
    "    \"\"\"\n",
    "    Plot residuals with a statistically defined range.\n",
    "    \n",
    "    Parameters:\n",
    "    - xin: Input features (Pandas DataFrame or NumPy array).\n",
    "    - yin: Target variable (Pandas DataFrame or NumPy array).\n",
    "    - modeling: Fitted OLS model (from statsmodels).\n",
    "    - global_std: Global residual standard deviation (for consistent bounds across models).\n",
    "                  If None, will calculate it from the given data.\n",
    "    - k: Multiplier for the standard deviation to define the bounds (e.g., 1.96 for 95% confidence).\n",
    "    \n",
    "    Returns:\n",
    "    - residual_std: The residual standard deviation for the given model.\n",
    "    \"\"\"\n",
    "    # Predicted and actual values\n",
    "    predicted = modeling.predict(sm.add_constant(xin))\n",
    "    actual = yin.values.flatten()\n",
    "    \n",
    "    # Calculate residuals\n",
    "    residuals = actual - predicted\n",
    "    \n",
    "    # Calculate or use global residual standard deviation\n",
    "    if global_std is None:\n",
    "        residual_std = residuals.std()  # Local residual std\n",
    "    else:\n",
    "        residual_std = global_std  # Use provided global std for comparison\n",
    "    \n",
    "    # Define residual bounds\n",
    "    k=1\n",
    "    upper_bound = k * residual_std\n",
    "    lower_bound = -k * residual_std\n",
    "    \n",
    "    # Count points within the range\n",
    "    in_range = ((residuals >= lower_bound) & (residuals <= upper_bound)).sum()\n",
    "    in_range_ratio = in_range / len(residuals)\n",
    "    \n",
    "    # Plot residuals\n",
    "    plt.figure(figsize=(8, 6))\n",
    "    plt.scatter(actual, residuals, alpha=0.7, edgecolors='k', label=\"Residuals\")\n",
    "    plt.axhline(0, color='r', linestyle='--', label=\"Ideal Residual (0)\")\n",
    "    plt.axhline(upper_bound, color='g', linestyle='--', label=f\"Upper Bound (+{k}σ)\")\n",
    "    plt.axhline(lower_bound, color='b', linestyle='--', label=f\"Lower Bound (-{k}σ)\")\n",
    "    plt.title(f\"Residual Plot\\nR2: {modeling.rsquared:.2f}, p-value: {modeling.f_pvalue:.2e}, In Range: {in_range_ratio:.2%}\")\n",
    "    plt.xlabel(\"Actual Y\")\n",
    "    plt.ylabel(\"Residuals (Actual - Predicted)\")\n",
    "    plt.legend()\n",
    "    plt.grid(True)\n",
    "    plt.show()\n"
   ]
  },
  {
   "cell_type": "code",
   "execution_count": null,
   "metadata": {},
   "outputs": [],
   "source": [
    "def plotmul(xin, yin, modelin):\n",
    "    import matplotlib.pyplot as plt\n",
    "    import numpy as np\n",
    "\n",
    "    predicted = modelin.predict(xin)  # Predicted values\n",
    "    actual = yin.values.flatten()  # Actual values\n",
    "\n",
    "    # Calculate residuals and residual standard deviation\n",
    "    residuals = actual - predicted\n",
    "    residual_magnitude = np.abs(residuals)  # Absolute residuals for coloring\n",
    "    residual_std = residuals.std()\n",
    "\n",
    "    # Normalize residuals to range [0, 60] for color mapping\n",
    "    normalized_residuals = np.clip(residual_magnitude, 0, 60)\n",
    "\n",
    "    # Define fixed tolerance (epsilon) based on residuals\n",
    "    k = 1.645  # Multiplier for 90% confidence\n",
    "    epsilon = k * residual_std\n",
    "\n",
    "    # Define upper and lower bounds parallel to the ideal line\n",
    "    x_min, x_max = actual.min(), actual.max()  # X-axis range (Actual Y values)\n",
    "    upper_bound = np.array([x_min + epsilon, x_max + epsilon])\n",
    "    lower_bound = np.array([x_min - epsilon, x_max - epsilon])\n",
    "\n",
    "    # Extract model stats\n",
    "    r2 = modelin.rsquared\n",
    "    p_value = modelin.f_pvalue\n",
    "\n",
    "    # Plot actual vs predicted scatter plot with tolerance range\n",
    "    plt.figure(figsize=(8, 6))\n",
    "\n",
    "    # Scatter plot with color based on normalized residuals\n",
    "    scatter = plt.scatter(\n",
    "        actual, predicted, \n",
    "        c=normalized_residuals, \n",
    "        cmap='cool', \n",
    "        label=\"Data Points\", \n",
    "        alpha=0.7, edgecolors='k'\n",
    "    )\n",
    "    \n",
    "    # Set color limits\n",
    "    scatter.set_clim(0, 80)\n",
    "\n",
    "    # Plot the ideal line\n",
    "    plt.plot([actual.min(), actual.max()], [actual.min(), actual.max()], 'r--', label=\"Ideal Fit (Y = Y_pred)\")\n",
    "\n",
    "    # Add sloped shaded region\n",
    "    #plt.fill_between(\n",
    "        #[x_min, x_max],\n",
    "        #lower_bound,\n",
    "        #upper_bound,\n",
    "        #color='gray',\n",
    "        #alpha=0.2,\n",
    "        #label=f\"Tolerance Range (±{k}σ)\"\n",
    "    #)\n",
    "\n",
    "    # Add color bar\n",
    "    cbar = plt.colorbar(scatter)\n",
    "    cbar.set_label('Residual Magnitude')\n",
    "    cbar.set_ticks([0, 10, 20, 30,40,50,60,70,80])\n",
    "\n",
    "    # Adjust axes limits\n",
    "    plt.xlim(100, 300)\n",
    "    plt.ylim(100, 300)\n",
    "\n",
    "    # Annotate the plot\n",
    "    plt.title(f\"Actual vs Predicted\\nR2: {r2:.2f}, p-value: {p_value:.2e}\")\n",
    "    plt.xlabel(\"Actual Y\")\n",
    "    plt.ylabel(\"Predicted Y\")\n",
    "    plt.legend()\n",
    "    plt.show()\n"
   ]
  },
  {
   "cell_type": "code",
   "execution_count": null,
   "metadata": {
    "scrolled": false
   },
   "outputs": [],
   "source": [
    "plotmul(Xms, yms, modelms)\n",
    "plotmul(Xmc, ymc, modelmc)\n",
    "plotmul(Xmv, ymv, modelmv)\n",
    "plotmul(Xcs, ycs, modelcs)\n",
    "plotmul(Xcc, ycc, modelcc)\n",
    "plotmul(Xcv, ycv, modelcv)\n",
    "plotmul(Xmcs, ymcs, modelmcs)\n",
    "plotmul(Xmcc, ymcc, modelmcc)\n",
    "plotmul(Xmcv, ymcv, modelmcv)"
   ]
  },
  {
   "cell_type": "code",
   "execution_count": null,
   "metadata": {
    "scrolled": true
   },
   "outputs": [],
   "source": [
    "residuals_all = []\n",
    "models = [modelms, modelmc, modelmv, modelcs, modelcc, modelcv, modelmcs, modelmcc, modelmcv]\n",
    "datasets = [(Xms, yms), (Xmc, ymc), (Xmv, ymv), (Xcs, ycs), (Xcc, ycc), (Xcv, ycv), (Xmcs, ymcs), (Xmcc, ymcc), (Xmcv, ymcv)]\n",
    "\n",
    "for (xin, yin), model in zip(datasets, models):\n",
    "    predicted = model.predict(sm.add_constant(xin))\n",
    "    actual = yin.values.flatten()\n",
    "    residuals_all.append(actual - predicted)\n",
    "\n",
    "global_residual_std = np.concatenate(residuals_all).std()\n",
    "\n",
    "# Plot residuals for each model\n",
    "for (xin, yin), model in zip(datasets, models):\n",
    "    plot_residuals(xin, yin, model, global_std=global_residual_std)"
   ]
  },
  {
   "cell_type": "code",
   "execution_count": null,
   "metadata": {},
   "outputs": [],
   "source": [
    "def plot_models_comparison(models, datasets, global_std=None, significance_level=0.05, k=1):\n",
    "    \"\"\"\n",
    "    Plot comparison of multiple models with actual vs. predicted data.\n",
    "    Points are all blue, with residual bounds shown as a shadow (shaded region).\n",
    "    Significant models are highlighted with a green transparent facecolor, others with transparent white.\n",
    "    RMSE, MAE, and percentage within bounds are displayed in the title, with the lowest RMSE/MAE in red.\n",
    "    Stars (*) are added for p-values < significance_level in red.\n",
    "    \n",
    "    Parameters:\n",
    "    - models: List of fitted OLS models (from statsmodels).\n",
    "    - datasets: List of (xin, yin) tuples where xin is the feature DataFrame, and yin is the target DataFrame.\n",
    "    - global_std: Global residual standard deviation (for consistent bounds across models).\n",
    "                  If None, will calculate it from the given data.\n",
    "    - significance_level: p-value threshold to consider a model significant.\n",
    "    - k: Multiplier for the standard deviation to define the bounds (e.g., 1 for this use case).\n",
    "    \"\"\"\n",
    "    import matplotlib.pyplot as plt\n",
    "    import numpy as np\n",
    "    from matplotlib.text import Text\n",
    "    from matplotlib.font_manager import FontProperties\n",
    "\n",
    "    # Prepare the grid for comparison (3x3 for nine models)\n",
    "    fig, axes = plt.subplots(3, 3, figsize=(18, 18))\n",
    "    axes = axes.flatten()\n",
    "\n",
    "    # Collect RMSE and MAE values for comparison\n",
    "    all_rmse = []\n",
    "    all_mae = []\n",
    "\n",
    "    # Loop through models and datasets\n",
    "    for i, ((xin, yin), model) in enumerate(zip(datasets, models)):\n",
    "        ax = axes[i]\n",
    "\n",
    "        # Predicted and actual values\n",
    "        predicted = model.predict(sm.add_constant(xin))\n",
    "        actual = yin.values.flatten()\n",
    "\n",
    "        # Calculate residuals\n",
    "        residuals = actual - predicted\n",
    "\n",
    "        # Calculate or use global residual standard deviation\n",
    "        if global_std is None:\n",
    "            residual_std = residuals.std()  # Local residual std\n",
    "        else:\n",
    "            residual_std = global_std  # Use provided global std for comparison\n",
    "\n",
    "        # Define residual bounds for each actual value\n",
    "        upper_bound = actual + k * residual_std\n",
    "        lower_bound = actual - k * residual_std\n",
    "\n",
    "        # Percentage of points within bounds\n",
    "        within_bounds = (predicted >= lower_bound) & (predicted <= upper_bound)\n",
    "        percentage_within_bounds = within_bounds.sum() / len(predicted) * 100\n",
    "\n",
    "        # Check model significance\n",
    "        is_significant = model.f_pvalue < significance_level\n",
    "        facecolor = (0, 1, 0, 0.2) if is_significant else (1, 1, 1, 0.0)  # Green transparent or white transparent\n",
    "\n",
    "        # Set subplot facecolor\n",
    "        ax.set_facecolor(facecolor)\n",
    "\n",
    "        # Scatter plot with all blue points\n",
    "        ax.scatter(\n",
    "            actual, predicted,\n",
    "            c='blue', alpha=0.7, edgecolors='k', label=\"Data Points\"\n",
    "        )\n",
    "        ax.plot([actual.min(), actual.max()], [actual.min(), actual.max()], 'r--', label=\"Ideal Line (Actual = Predicted)\")\n",
    "\n",
    "        # Add shaded residual bounds\n",
    "        sorted_indices = np.argsort(actual)\n",
    "        actual_sorted = actual[sorted_indices]\n",
    "        lower_sorted = lower_bound[sorted_indices]\n",
    "        upper_sorted = upper_bound[sorted_indices]\n",
    "\n",
    "        ax.fill_between(\n",
    "            actual_sorted,\n",
    "            lower_sorted,\n",
    "            upper_sorted,\n",
    "            color='gray',\n",
    "            alpha=0.2,\n",
    "            label=f\"Tolerance Range (±{k}σ)\"\n",
    "        )\n",
    "\n",
    "        # Calculate RMSE and MAE\n",
    "        rmse = np.sqrt(np.mean(residuals**2))\n",
    "        mae = np.mean(np.abs(residuals))\n",
    "        all_rmse.append(rmse)\n",
    "        all_mae.append(mae)\n",
    "\n",
    "        # Add title and labels\n",
    "        p_value_str = f\"{model.f_pvalue:.2e}\"\n",
    "        if model.f_pvalue < significance_level:\n",
    "            p_value_str = f\"{model.f_pvalue:.2e} *\"\n",
    "\n",
    "        #title = (\n",
    "            #f\"Model {i+1}\\n\"\n",
    "            #f\"R2: {model.rsquared:.2f}, p-value: {p_value_str}\\n\"\n",
    "            #f\"RMSE: {rmse:.2f}, MAE: {mae:.2f}, Within Bounds: {percentage_within_bounds:.2f}%\"\n",
    "        #)\n",
    "        title = (\n",
    "            #f\"Model {i+1}\\n\"\n",
    "            f\"R^2: {model.rsquared:.2f}, p-value: {p_value_str}\\n\"\n",
    "            f\"RMSE: {rmse:.2f}, MAE: {mae:.2f}\"\n",
    "        )\n",
    "        ax.set_title(title, fontsize=16, color='black')\n",
    "        ax.set_xlabel(\"Actual PSI\", fontsize=14)  # Larger axis label font size\n",
    "        ax.set_ylabel(\"Predicted PSI\", fontsize=14)  # Larger axis label font size\n",
    "        ax.legend(loc='upper left', fontsize=12)\n",
    "        ax.grid(True)\n",
    "\n",
    "    # Highlight the model with the lowest RMSE and MAE\n",
    "    min_rmse_idx = np.argmin(all_rmse)\n",
    "    min_mae_idx = np.argmin(all_mae)\n",
    "\n",
    "    # Add RMSE highlight\n",
    "    ax = axes[min_rmse_idx]\n",
    "    ax.set_title(\n",
    "        ax.get_title().replace(f\"RMSE: {all_rmse[min_rmse_idx]:.2f}\", f\"RMSE: {all_rmse[min_rmse_idx]:.2f}\"),\n",
    "        fontsize=16, color='red'\n",
    "    )\n",
    "\n",
    "    # Add MAE highlight if different from RMSE\n",
    "    if min_rmse_idx != min_mae_idx:\n",
    "        ax = axes[min_mae_idx]\n",
    "        ax.set_title(\n",
    "            ax.get_title().replace(f\"MAE: {all_mae[min_mae_idx]:.2f}\", f\"MAE: {all_mae[min_mae_idx]:.2f}\"),\n",
    "            fontsize=22, color='red'\n",
    "        )\n",
    "\n",
    "    # Adjust layout\n",
    "    plt.tight_layout()\n",
    "    plt.show()\n"
   ]
  },
  {
   "cell_type": "code",
   "execution_count": null,
   "metadata": {},
   "outputs": [],
   "source": [
    "\n",
    "# Example for nine models\n",
    "models = [modelms, modelmc, modelmv, modelcs, modelcc, modelcv, modelmcs, modelmcc, modelmcv]\n",
    "datasets = [\n",
    "    (xms, yms), (xmc, ymc), (xmv, ymv), (xcs, ycs), (xcc, ycc), \n",
    "    (xcv, ycv), (xmcs, ymcs), (xmcc, ymcc), (xmcv, ymcv)\n",
    "]\n",
    "\n",
    "# Calculate global residual standard deviation\n",
    "all_residuals = []\n",
    "for (xin, yin), model in zip(datasets, models):\n",
    "    predicted = model.predict(sm.add_constant(xin))\n",
    "    actual = yin.values.flatten()\n",
    "    all_residuals.append(actual - predicted)\n",
    "\n",
    "global_residual_std = np.concatenate(all_residuals).std()\n",
    "\n",
    "# Plot the comparison\n",
    "plot_models_comparison(models, datasets, global_std=global_residual_std)\n"
   ]
  },
  {
   "cell_type": "code",
   "execution_count": null,
   "metadata": {},
   "outputs": [],
   "source": [
    "def plot_residuals_boxplots(models_data):\n",
    "    \"\"\"\n",
    "    Plot boxplots of residuals for multiple models.\n",
    "\n",
    "    Parameters:\n",
    "    - models_data: List of tuples, each containing (xin, yin, model)\n",
    "    \"\"\"\n",
    "    residuals_list = []\n",
    "    labels = []\n",
    "\n",
    "    for idx, (xin, yin, model) in enumerate(models_data):\n",
    "        predicted = model.predict(sm.add_constant(xin))\n",
    "        actual = yin.values.flatten()\n",
    "        residuals = actual - predicted\n",
    "        residuals_list.append(residuals)\n",
    "        labels.append(f\"Model {idx+1}\")\n",
    "\n",
    "    plt.figure(figsize=(12, 6))\n",
    "    box = plt.boxplot(residuals_list, labels=labels, patch_artist=True)\n",
    "\n",
    "    # Color the boxes based on significance\n",
    "    for patch, (_, _, model) in zip(box['boxes'], models_data):\n",
    "        if model.f_pvalue < 0.05:\n",
    "            patch.set_facecolor('#eaffea')  # Light green for significant models\n",
    "        else:\n",
    "            patch.set_facecolor('#ffeaea')  # Light red for non-significant models\n",
    "\n",
    "    plt.title(\"Residuals Distribution Across Models\")\n",
    "    plt.ylabel(\"Residuals\")\n",
    "    plt.xlabel(\"Models\")\n",
    "    plt.grid(True)\n",
    "    plt.show()\n"
   ]
  },
  {
   "cell_type": "code",
   "execution_count": null,
   "metadata": {},
   "outputs": [],
   "source": [
    "plot_residuals_boxplots(models_data)"
   ]
  },
  {
   "cell_type": "code",
   "execution_count": null,
   "metadata": {
    "scrolled": false
   },
   "outputs": [],
   "source": [
    "# Calculate global residual standard deviation\n",
    "all_residuals = []\n",
    "models = [modelms, modelmc, modelmv, modelcs, modelcc, modelcv, modelmcs, modelmcc, modelmcv]\n",
    "datasets = [(Xms, yms), (Xmc, ymc), (Xmv, ymv), (Xcs, ycs), (Xcc, ycc), (Xcv, ycv), (Xmcs, ymcs), (Xmcc, ymcc), (Xmcv, ymcv)]\n",
    "\n",
    "for (xin, yin), model in zip(datasets, models):\n",
    "    predicted = model.predict(sm.add_constant(xin))\n",
    "    actual = yin.values.flatten()\n",
    "    all_residuals.append(actual - predicted)\n",
    "\n",
    "global_residual_std = np.concatenate(all_residuals).std()\n",
    "\n",
    "# Plot each model with normalized residuals\n",
    "for (xin, yin), model in zip(datasets, models):\n",
    "    plotmul(xin, yin, model, global_std=global_residual_std)\n"
   ]
  },
  {
   "cell_type": "code",
   "execution_count": null,
   "metadata": {},
   "outputs": [],
   "source": [
    "print(modelms.rsquared,modelms.rsquared_adj,modelms.f_pvalue)\n",
    "print(modelmc.rsquared,modelmc.rsquared_adj,modelmc.f_pvalue)\n",
    "print(modelmv.rsquared,modelmv.rsquared_adj,modelmv.f_pvalue)\n",
    "\n",
    "print(modelcs.rsquared,modelcs.rsquared_adj,modelcs.f_pvalue)\n",
    "print(modelcc.rsquared,modelcc.rsquared_adj,modelcc.f_pvalue)\n",
    "print(modelcv.rsquared,modelcv.rsquared_adj,modelcv.f_pvalue)\n",
    "\n",
    "print(modelmcs.rsquared,modelmcs.rsquared_adj,modelmcs.f_pvalue)\n",
    "print(modelmcc.rsquared,modelmcc.rsquared_adj,modelmcc.f_pvalue)\n",
    "print(modelmcv.rsquared,modelmcv.rsquared_adj,modelmcv.f_pvalue)"
   ]
  },
  {
   "cell_type": "code",
   "execution_count": null,
   "metadata": {},
   "outputs": [],
   "source": [
    "modelms.summary()"
   ]
  },
  {
   "cell_type": "code",
   "execution_count": null,
   "metadata": {},
   "outputs": [],
   "source": [
    "modelmc.summary()"
   ]
  },
  {
   "cell_type": "code",
   "execution_count": null,
   "metadata": {},
   "outputs": [],
   "source": [
    "modelmv.summary()"
   ]
  },
  {
   "cell_type": "code",
   "execution_count": null,
   "metadata": {},
   "outputs": [],
   "source": [
    "modelcs.summary()"
   ]
  },
  {
   "cell_type": "code",
   "execution_count": null,
   "metadata": {},
   "outputs": [],
   "source": [
    "modelcc.summary()"
   ]
  },
  {
   "cell_type": "code",
   "execution_count": null,
   "metadata": {},
   "outputs": [],
   "source": [
    "modelcv.summary()"
   ]
  },
  {
   "cell_type": "code",
   "execution_count": null,
   "metadata": {},
   "outputs": [],
   "source": [
    "modelmcs.summary()"
   ]
  },
  {
   "cell_type": "code",
   "execution_count": null,
   "metadata": {},
   "outputs": [],
   "source": [
    "modelmcc.summary()"
   ]
  },
  {
   "cell_type": "code",
   "execution_count": null,
   "metadata": {},
   "outputs": [],
   "source": [
    "modelmcv.summary()"
   ]
  },
  {
   "cell_type": "code",
   "execution_count": null,
   "metadata": {},
   "outputs": [],
   "source": [
    "fig, ax=plt.subplots()\n",
    "ax.spines['right'].set_visible(False)\n",
    "ax.spines['top'].set_visible(False)\n",
    "plt.scatter(np.array(xms[0]).ravel(),np.array(psims[:,1]).ravel())\n",
    "linear_model=np.polyfit(np.array(xms[0]).ravel(),np.array(psims[:,1]).ravel(),1)\n",
    "linear_model_fn=np.poly1d(linear_model)\n",
    "plt.plot(np.array(xms[0]).ravel(),linear_model_fn(np.array(xms[0]).ravel()),color=\"k\")\n",
    "plt.xticks(fontsize=14)\n",
    "plt.yticks(fontsize=14)"
   ]
  },
  {
   "cell_type": "code",
   "execution_count": null,
   "metadata": {},
   "outputs": [],
   "source": [
    "plt.figure(figsize=(12,9))\n",
    "plt.scatter(psimv[:,6],np.array(psimv[:,1]).ravel())\n",
    "#for i in range(len(xcs[14])):\n",
    "    #textt=int(psimcs[i,0])\n",
    "    #plt.annotate(textt,xy = (psics[i,16],np.array(psics[i,1]).ravel()),xytext = (psics[i,16]+0.05,psics[i,1]+0.05))\n",
    "linear_model=np.polyfit(np.array(xmv[4]).ravel(),np.array(psimv[:,1]).ravel(),1)\n",
    "linear_model_fn=np.poly1d(linear_model)\n",
    "plt.plot(np.array(xmv[4]).ravel(),linear_model_fn(np.array(xmv[4]).ravel()),color=\"k\")\n",
    "#plt.xlim(440,810)\n",
    "plt.xticks(fontsize=18)\n",
    "plt.yticks(fontsize=18)"
   ]
  },
  {
   "cell_type": "code",
   "execution_count": null,
   "metadata": {},
   "outputs": [],
   "source": [
    "lsm=ss.pearsonr(np.array(xmv[13]).ravel(),np.array(psimv[:,1]).ravel())\n",
    "print('lsm',lsm)"
   ]
  },
  {
   "cell_type": "code",
   "execution_count": null,
   "metadata": {},
   "outputs": [],
   "source": [
    "plt.figure(figsize=(12,9))\n",
    "plt.scatter(psimv[:,15],np.array(psimv[:,1]).ravel())\n",
    "#for i in range(len(xcs[14])):\n",
    "    #textt=int(psimcs[i,0])\n",
    "    #plt.annotate(textt,xy = (psics[i,16],np.array(psics[i,1]).ravel()),xytext = (psics[i,16]+0.05,psics[i,1]+0.05))\n",
    "linear_model=np.polyfit(np.array(xmv[13]).ravel(),np.array(psimv[:,1]).ravel(),1)\n",
    "linear_model_fn=np.poly1d(linear_model)\n",
    "plt.plot(np.array(xmv[13]).ravel(),linear_model_fn(np.array(xmv[13]).ravel()),color=\"k\")\n",
    "#plt.xlim(440,810)\n",
    "plt.xticks(fontsize=18)\n",
    "plt.yticks(fontsize=18)"
   ]
  },
  {
   "cell_type": "code",
   "execution_count": null,
   "metadata": {},
   "outputs": [],
   "source": [
    "xms.head()"
   ]
  },
  {
   "cell_type": "code",
   "execution_count": null,
   "metadata": {},
   "outputs": [],
   "source": [
    "plt.figure(figsize=(12,9))\n",
    "plt.scatter(psics[:,16],np.array(psics[:,1]).ravel())\n",
    "#for i in range(len(xcs[14])):\n",
    "    #textt=int(psimcs[i,0])\n",
    "    #plt.annotate(textt,xy = (psics[i,16],np.array(psics[i,1]).ravel()),xytext = (psics[i,16]+0.05,psics[i,1]+0.05))\n",
    "linear_model=np.polyfit(np.array(xcs[14]).ravel(),np.array(psics[:,1]).ravel(),1)\n",
    "linear_model_fn=np.poly1d(linear_model)\n",
    "plt.plot(np.array(xcs[14]).ravel(),linear_model_fn(np.array(xcs[14]).ravel()),color=\"k\")\n",
    "#plt.xlim(250,850)\n",
    "plt.xticks(fontsize=18)\n",
    "plt.yticks(fontsize=18)"
   ]
  },
  {
   "cell_type": "code",
   "execution_count": null,
   "metadata": {},
   "outputs": [],
   "source": [
    "plt.figure(figsize=(12,9))\n",
    "plt.scatter(psics[:,17],np.array(psics[:,1]).ravel())\n",
    "#for i in range(len(xcs[14])):\n",
    "    #textt=int(psimcs[i,0])\n",
    "    #plt.annotate(textt,xy = (psics[i,16],np.array(psics[i,1]).ravel()),xytext = (psics[i,16]+0.05,psics[i,1]+0.05))\n",
    "linear_model=np.polyfit(np.array(xcs[15]).ravel(),np.array(psics[:,1]).ravel(),1)\n",
    "linear_model_fn=np.poly1d(linear_model)\n",
    "plt.plot(np.array(xcs[15]).ravel(),linear_model_fn(np.array(xcs[15]).ravel()),color=\"k\")\n",
    "#plt.xlim(250,850)\n",
    "plt.xticks(fontsize=18)\n",
    "plt.yticks(fontsize=18)"
   ]
  },
  {
   "cell_type": "code",
   "execution_count": null,
   "metadata": {},
   "outputs": [],
   "source": [
    "plt.figure(figsize=(12,9))\n",
    "plt.scatter(psics[:,17],np.array(psics[:,1]).ravel())\n",
    "#for i in range(len(xcs[14])):\n",
    "    #textt=int(psimcs[i,0])\n",
    "    #plt.annotate(textt,xy = (psics[i,16],np.array(psics[i,1]).ravel()),xytext = (psics[i,16]+0.05,psics[i,1]+0.05))\n",
    "linear_model=np.polyfit(np.array(xcs[15]).ravel(),np.array(psics[:,1]).ravel(),1)\n",
    "linear_model_fn=np.poly1d(linear_model)\n",
    "plt.plot(np.array(xcs[15]).ravel(),linear_model_fn(np.array(xcs[15]).ravel()),color=\"k\")\n",
    "#plt.xlim(250,850)\n",
    "plt.xticks(fontsize=18)\n",
    "plt.yticks(fontsize=18)"
   ]
  },
  {
   "cell_type": "code",
   "execution_count": null,
   "metadata": {},
   "outputs": [],
   "source": [
    "plt.figure(figsize=(12,9))\n",
    "plt.scatter(psimcs[:,2],np.array(psimcs[:,1]).ravel())\n",
    "#for i in range(len(xcs[14])):\n",
    "    #textt=int(psimcs[i,0])\n",
    "    #plt.annotate(textt,xy = (psics[i,16],np.array(psics[i,1]).ravel()),xytext = (psics[i,16]+0.05,psics[i,1]+0.05))\n",
    "linear_model=np.polyfit(np.array(xmcs[0]).ravel(),np.array(psimcs[:,1]).ravel(),1)\n",
    "linear_model_fn=np.poly1d(linear_model)\n",
    "plt.plot(np.array(xmcs[0]).ravel(),linear_model_fn(np.array(xmcs[0]).ravel()),color=\"k\")\n",
    "#plt.xlim(250,850)\n",
    "plt.xticks(fontsize=18)\n",
    "plt.yticks(fontsize=18)"
   ]
  },
  {
   "cell_type": "code",
   "execution_count": null,
   "metadata": {},
   "outputs": [],
   "source": [
    "plt.figure(figsize=(12,9))\n",
    "plt.scatter(psimcc[:,17],np.array(psimcc[:,1]).ravel())\n",
    "#for i in range(len(xcs[14])):\n",
    "    #textt=int(psimcs[i,0])\n",
    "    #plt.annotate(textt,xy = (psics[i,16],np.array(psics[i,1]).ravel()),xytext = (psics[i,16]+0.05,psics[i,1]+0.05))\n",
    "linear_model=np.polyfit(np.array(xmcc[15]).ravel(),np.array(psimcc[:,1]).ravel(),1)\n",
    "linear_model_fn=np.poly1d(linear_model)\n",
    "plt.plot(np.array(xmcc[15]).ravel(),linear_model_fn(np.array(xmcc[15]).ravel()),color=\"k\")\n",
    "#plt.xlim(250,850)\n",
    "plt.xticks(fontsize=18)\n",
    "plt.yticks(fontsize=18)"
   ]
  },
  {
   "cell_type": "code",
   "execution_count": null,
   "metadata": {},
   "outputs": [],
   "source": [
    "plt.figure(figsize=(12,9))\n",
    "plt.scatter(psimcv[:,8],np.array(psimcv[:,1]).ravel())\n",
    "#for i in range(len(xcs[14])):\n",
    "    #textt=int(psimcs[i,0])\n",
    "    #plt.annotate(textt,xy = (psics[i,16],np.array(psics[i,1]).ravel()),xytext = (psics[i,16]+0.05,psics[i,1]+0.05))\n",
    "linear_model=np.polyfit(np.array(xmcv[6]).ravel(),np.array(psimcv[:,1]).ravel(),1)\n",
    "linear_model_fn=np.poly1d(linear_model)\n",
    "plt.plot(np.array(xmcv[6]).ravel(),linear_model_fn(np.array(xmcv[6]).ravel()),color=\"k\")\n",
    "#plt.xlim(250,850)\n",
    "plt.xticks(fontsize=18)\n",
    "plt.yticks(fontsize=18)"
   ]
  },
  {
   "cell_type": "code",
   "execution_count": null,
   "metadata": {},
   "outputs": [],
   "source": [
    "xmcv=pd.DataFrame(psimcv[:,2:])\n",
    "ymcv=pd.DataFrame(psimcv[:,1])\n",
    "\n",
    "Xmcv=sm.add_constant(xmcv)\n",
    "modelmcv=sm.OLS(ymcc,Xmcv).fit()\n",
    "print(modelmcv.rsquared,modelmcv.rsquared_adj)"
   ]
  },
  {
   "cell_type": "code",
   "execution_count": null,
   "metadata": {},
   "outputs": [],
   "source": [
    "from sklearn.linear_model import LinearRegression"
   ]
  },
  {
   "cell_type": "code",
   "execution_count": null,
   "metadata": {},
   "outputs": [],
   "source": [
    "modelli=LinearRegression()\n",
    "modelli.fit(psims[:,2:],psims[:,1])\n",
    "modelli.score(psims[:,2:],psims[:,1])"
   ]
  },
  {
   "cell_type": "code",
   "execution_count": null,
   "metadata": {},
   "outputs": [],
   "source": [
    "modelli=LinearRegression()\n",
    "modelli.fit(psimc[:,2:],psimc[:,1])\n",
    "modelli.score(psimc[:,2:],psimc[:,1])"
   ]
  },
  {
   "cell_type": "code",
   "execution_count": null,
   "metadata": {},
   "outputs": [],
   "source": [
    "modelli=LinearRegression()\n",
    "modelli.fit(psimv[:,2:],psimv[:,1])\n",
    "modelli.score(psimv[:,2:],psimv[:,1])"
   ]
  },
  {
   "cell_type": "code",
   "execution_count": null,
   "metadata": {},
   "outputs": [],
   "source": [
    "modelli=LinearRegression()\n",
    "modelli.fit(psics[:,2:],psics[:,1])\n",
    "modelli.score(psics[:,2:],psics[:,1])"
   ]
  },
  {
   "cell_type": "code",
   "execution_count": null,
   "metadata": {},
   "outputs": [],
   "source": [
    "modelli=LinearRegression()\n",
    "modelli.fit(psicc[:,2:],psicc[:,1])\n",
    "modelli.score(psicc[:,2:],psicc[:,1])"
   ]
  },
  {
   "cell_type": "code",
   "execution_count": null,
   "metadata": {},
   "outputs": [],
   "source": [
    "modelli=LinearRegression()\n",
    "modelli.fit(psicv[:,2:],psicv[:,1])\n",
    "modelli.score(psicv[:,2:],psicv[:,1])"
   ]
  },
  {
   "cell_type": "code",
   "execution_count": null,
   "metadata": {},
   "outputs": [],
   "source": [
    "modelli=LinearRegression()\n",
    "modelli.fit(psimcs[:,2:],psimcs[:,1])\n",
    "modelli.score(psimcs[:,2:],psimcs[:,1])"
   ]
  },
  {
   "cell_type": "code",
   "execution_count": null,
   "metadata": {},
   "outputs": [],
   "source": [
    "modelli=LinearRegression()\n",
    "modelli.fit(psimcc[:,2:],psimcc[:,1])\n",
    "modelli.score(psimcc[:,2:],psimcc[:,1])"
   ]
  },
  {
   "cell_type": "code",
   "execution_count": null,
   "metadata": {},
   "outputs": [],
   "source": [
    "modelli=LinearRegression()\n",
    "modelli.fit(psimcv[:,2:],psimcv[:,1])\n",
    "modelli.score(psimcv[:,2:],psimcv[:,1])"
   ]
  },
  {
   "cell_type": "code",
   "execution_count": null,
   "metadata": {},
   "outputs": [],
   "source": [
    "import scipy.stats as ss\n",
    "lsm=ss.pearsonr(np.array(disms).ravel(),np.array(psims).ravel())\n",
    "lcm=ss.pearsonr(np.array(dismc).ravel(),np.array(psimc).ravel())\n",
    "lvm=ss.pearsonr(np.array(dismv).ravel(),np.array(psimv).ravel())\n",
    "lcs=ss.pearsonr(np.array(discs).ravel(),np.array(psics).ravel())\n",
    "lcc=ss.pearsonr(np.array(discc).ravel(),np.array(psicc).ravel())\n",
    "lcv=ss.pearsonr(np.array(discv).ravel(),np.array(psicv).ravel())\n",
    "\n",
    "lsmc=ss.pearsonr(np.array(dismcs).ravel(),np.array(psimcs).ravel())\n",
    "lcmc=ss.pearsonr(np.array(dismcc).ravel(),np.array(psimcc).ravel())\n",
    "lvmc=ss.pearsonr(np.array(dismcv).ravel(),np.array(psimcv).ravel())\n",
    "\n",
    "print('lsm',lsm)\n",
    "print('lcm',lcm)\n",
    "print('lvm',lvm)\n",
    "print('lcs',lcs)\n",
    "print('lcc',lcc)\n",
    "print('lcv',lcv)\n",
    "print('lsmc',lsmc)\n",
    "print('lcmc',lcmc)\n",
    "print('lvmc',lvmc)"
   ]
  },
  {
   "cell_type": "code",
   "execution_count": null,
   "metadata": {},
   "outputs": [],
   "source": [
    "len(dismcs)"
   ]
  },
  {
   "cell_type": "code",
   "execution_count": null,
   "metadata": {},
   "outputs": [],
   "source": [
    "#plt.figure(figsize=(25,20))\n",
    "plt.scatter(np.array(dismcs).ravel(),np.array(psimcs).ravel())\n",
    "for i in range(len(dismcs)):\n",
    "        plt.annotate(int(namemcs[i]),xy = (dismcs[i],psimcs[i]),xytext = (dismcs[i]+0.01,psimcs[i]+0.01))"
   ]
  },
  {
   "cell_type": "code",
   "execution_count": null,
   "metadata": {},
   "outputs": [],
   "source": [
    "fig, ax=plt.subplots()\n",
    "ax.spines['right'].set_visible(False)\n",
    "ax.spines['top'].set_visible(False)\n",
    "plt.scatter(np.array(disms).ravel(),np.array(psims).ravel())\n",
    "linear_model=np.polyfit(np.array(disms).ravel(),np.array(psims).ravel(),1)\n",
    "linear_model_fn=np.poly1d(linear_model)\n",
    "plt.plot(np.array(disms).ravel(),linear_model_fn(np.array(disms).ravel()),color=\"k\")\n",
    "plt.xticks(fontsize=14)\n",
    "plt.yticks(fontsize=14)"
   ]
  },
  {
   "cell_type": "code",
   "execution_count": null,
   "metadata": {},
   "outputs": [],
   "source": [
    "fig, ax=plt.subplots()\n",
    "ax.spines['right'].set_visible(False)\n",
    "ax.spines['top'].set_visible(False)\n",
    "plt.scatter(np.array(dismc).ravel(),np.array(psimc).ravel())\n",
    "linear_model=np.polyfit(np.array(dismc).ravel(),np.array(psimc).ravel(),1)\n",
    "linear_model_fn=np.poly1d(linear_model)\n",
    "plt.plot(np.array(dismc).ravel(),linear_model_fn(np.array(dismc).ravel()),color=\"k\")\n",
    "plt.xticks(fontsize=14)\n",
    "plt.yticks(fontsize=14)"
   ]
  },
  {
   "cell_type": "code",
   "execution_count": null,
   "metadata": {},
   "outputs": [],
   "source": [
    "fig, ax=plt.subplots()\n",
    "ax.spines['right'].set_visible(False)\n",
    "ax.spines['top'].set_visible(False)\n",
    "plt.scatter(np.array(dismv).ravel(),np.array(psimv).ravel())\n",
    "linear_model=np.polyfit(np.array(dismv).ravel(),np.array(psimv).ravel(),1)\n",
    "linear_model_fn=np.poly1d(linear_model)\n",
    "plt.plot(np.array(dismv).ravel(),linear_model_fn(np.array(dismv).ravel()),color=\"k\")\n",
    "plt.xticks(fontsize=14)\n",
    "plt.yticks(fontsize=14)"
   ]
  },
  {
   "cell_type": "code",
   "execution_count": null,
   "metadata": {},
   "outputs": [],
   "source": [
    "fig, ax=plt.subplots()\n",
    "ax.spines['right'].set_visible(False)\n",
    "ax.spines['top'].set_visible(False)\n",
    "plt.scatter(np.array(discs).ravel(),np.array(psics).ravel())\n",
    "linear_model=np.polyfit(np.array(discs).ravel(),np.array(psics).ravel(),1)\n",
    "linear_model_fn=np.poly1d(linear_model)\n",
    "plt.plot(np.array(discs).ravel(),linear_model_fn(np.array(discs).ravel()),color=\"k\")\n",
    "plt.xticks(fontsize=14)\n",
    "plt.yticks(fontsize=14)"
   ]
  },
  {
   "cell_type": "code",
   "execution_count": null,
   "metadata": {},
   "outputs": [],
   "source": [
    "fig, ax=plt.subplots()\n",
    "ax.spines['right'].set_visible(False)\n",
    "ax.spines['top'].set_visible(False)\n",
    "plt.scatter(np.array(discc).ravel(),np.array(psicc).ravel())\n",
    "linear_model=np.polyfit(np.array(discc).ravel(),np.array(psicc).ravel(),1)\n",
    "linear_model_fn=np.poly1d(linear_model)\n",
    "plt.plot(np.array(discc).ravel(),linear_model_fn(np.array(discc).ravel()),color=\"k\")\n",
    "plt.xticks(fontsize=14)\n",
    "plt.yticks(fontsize=14)"
   ]
  },
  {
   "cell_type": "code",
   "execution_count": null,
   "metadata": {},
   "outputs": [],
   "source": [
    "fig, ax=plt.subplots()\n",
    "ax.spines['right'].set_visible(False)\n",
    "ax.spines['top'].set_visible(False)\n",
    "plt.scatter(np.array(discv).ravel(),np.array(psicv).ravel())\n",
    "linear_model=np.polyfit(np.array(discv).ravel(),np.array(psicv).ravel(),1)\n",
    "linear_model_fn=np.poly1d(linear_model)\n",
    "plt.plot(np.array(discv).ravel(),linear_model_fn(np.array(discv).ravel()),color=\"k\")\n",
    "plt.xticks(fontsize=14)\n",
    "plt.yticks(fontsize=14)"
   ]
  },
  {
   "cell_type": "code",
   "execution_count": null,
   "metadata": {},
   "outputs": [],
   "source": [
    "fig, ax=plt.subplots()\n",
    "ax.spines['right'].set_visible(False)\n",
    "ax.spines['top'].set_visible(False)\n",
    "plt.scatter(np.array(dismcs).ravel(),np.array(psimcs).ravel())\n",
    "linear_model=np.polyfit(np.array(dismcs).ravel(),np.array(psimcs).ravel(),1)\n",
    "linear_model_fn=np.poly1d(linear_model)\n",
    "plt.plot(np.array(dismcs).ravel(),linear_model_fn(np.array(dismcs).ravel()),color=\"k\")\n",
    "plt.xticks(fontsize=14)\n",
    "plt.yticks(fontsize=14)"
   ]
  },
  {
   "cell_type": "code",
   "execution_count": null,
   "metadata": {},
   "outputs": [],
   "source": [
    "fig, ax=plt.subplots()\n",
    "ax.spines['right'].set_visible(False)\n",
    "ax.spines['top'].set_visible(False)\n",
    "plt.scatter(np.array(dismcc).ravel(),np.array(psimcc).ravel())\n",
    "linear_model=np.polyfit(np.array(dismcc).ravel(),np.array(psimcc).ravel(),1)\n",
    "linear_model_fn=np.poly1d(linear_model)\n",
    "plt.plot(np.array(dismcc).ravel(),linear_model_fn(np.array(dismcc).ravel()),color=\"k\")\n",
    "plt.xticks(fontsize=14)\n",
    "plt.yticks(fontsize=14)"
   ]
  },
  {
   "cell_type": "code",
   "execution_count": null,
   "metadata": {},
   "outputs": [],
   "source": [
    "fig, ax=plt.subplots()\n",
    "ax.spines['right'].set_visible(False)\n",
    "ax.spines['top'].set_visible(False)\n",
    "plt.scatter(np.array(dismcv).ravel(),np.array(psimcv).ravel())\n",
    "linear_model=np.polyfit(np.array(dismcv).ravel(),np.array(psimcv).ravel(),1)\n",
    "linear_model_fn=np.poly1d(linear_model)\n",
    "plt.plot(np.array(dismcv).ravel(),linear_model_fn(np.array(dismcv).ravel()),color=\"k\")\n",
    "plt.xticks(fontsize=14)\n",
    "plt.yticks(fontsize=14)"
   ]
  },
  {
   "cell_type": "code",
   "execution_count": null,
   "metadata": {},
   "outputs": [],
   "source": []
  }
 ],
 "metadata": {
  "kernelspec": {
   "display_name": "Python 3 (ipykernel)",
   "language": "python",
   "name": "python3"
  },
  "language_info": {
   "codemirror_mode": {
    "name": "ipython",
    "version": 3
   },
   "file_extension": ".py",
   "mimetype": "text/x-python",
   "name": "python",
   "nbconvert_exporter": "python",
   "pygments_lexer": "ipython3",
   "version": "3.9.13"
  }
 },
 "nbformat": 4,
 "nbformat_minor": 4
}
