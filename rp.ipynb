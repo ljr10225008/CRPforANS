{
 "cells": [
  {
   "cell_type": "code",
   "execution_count": null,
   "metadata": {},
   "outputs": [],
   "source": [
    "import math\n",
    "import numpy as np\n",
    "import sklearn\n",
    "from sklearn.cluster import KMeans\n",
    "import matplotlib as mpl\n",
    "import matplotlib.pyplot as plt\n",
    "import librosa\n",
    "import librosa.display\n",
    "import os\n",
    "import re\n",
    "import seaborn as sns\n",
    "import pandas as pd\n",
    "import random\n",
    "from scipy import stats  #t-test\n",
    "from scipy.spatial.distance import euclidean\n",
    "from fastdtw import fastdtw\n",
    "from scipy.interpolate import interp1d\n",
    "from scipy.signal import savgol_filter\n",
    "\n",
    "import xlrd\n",
    "import statsmodels.api as sm\n",
    "from itertools import groupby\n",
    "\n",
    "from statistics import mean\n",
    "from matplotlib import cm"
   ]
  },
  {
   "cell_type": "code",
   "execution_count": null,
   "metadata": {},
   "outputs": [],
   "source": [
    "pathtextm=r'D:\\KyotoUdata\\all\\motheroneday\\csv'#path to mother data\n",
    "pathtextc=r'D:\\KyotoUdata\\all\\childoneday\\csv'#path to children data"
   ]
  },
  {
   "cell_type": "code",
   "execution_count": null,
   "metadata": {},
   "outputs": [],
   "source": [
    "filesmother= os.listdir(pathtextm)\n",
    "fileschild= os.listdir(pathtextc)"
   ]
  },
  {
   "cell_type": "code",
   "execution_count": null,
   "metadata": {},
   "outputs": [],
   "source": [
    "fileschild[-2]"
   ]
  },
  {
   "cell_type": "code",
   "execution_count": null,
   "metadata": {},
   "outputs": [],
   "source": [
    "cellm=np.empty((len(filesmother),1),dtype=object)\n",
    "for i in range(len(filesmother)):\n",
    "    fileread= pd.read_csv(pathtextm+'\\\\'+filesmother[i])\n",
    "    fileread.columns = [c.replace('SD2/SD1', 'CSI') for c in fileread.columns]\n",
    "    cellm[i,0]=fileread"
   ]
  },
  {
   "cell_type": "code",
   "execution_count": null,
   "metadata": {},
   "outputs": [],
   "source": [
    "cellc=np.empty((len(fileschild),1),dtype=object)\n",
    "for i in range(len(fileschild)):\n",
    "    fileread= pd.read_csv(pathtextc+'\\\\'+fileschild[i])\n",
    "    fileread.columns = [c.replace('SD2/SD1', 'CSI') for c in fileread.columns]\n",
    "    cellc[i,0]=fileread"
   ]
  },
  {
   "cell_type": "code",
   "execution_count": null,
   "metadata": {},
   "outputs": [],
   "source": [
    "cellsdnnm=np.empty((len(filesmother),3),dtype=object)\n",
    "cellcsim=np.empty((len(filesmother),3),dtype=object)\n",
    "cellcvim=np.empty((len(filesmother),3),dtype=object)\n",
    "for i in range(len(filesmother)):\n",
    "    data=cellm[i,0]\n",
    "    data.columns = [c.replace(' ', '') for c in data.columns]\n",
    "    data1=data.drop([0])\n",
    "    datat1=data1['STDRR'].astype(float)\n",
    "    datat2=data1['CSI'].astype(float)\n",
    "    datat3=data1['CVI'].astype(float)\n",
    "    if len(datat1)>=4320:\n",
    "        data11=datat1[0:1440]\n",
    "        data12=datat1[1440:2880]\n",
    "        data13=datat1[2880:4320]\n",
    "    elif len(datat1)>=2880:\n",
    "        data11=datat1[0:1440]\n",
    "        data12=datat1[1440:2880]\n",
    "        data13=[]\n",
    "    elif len(datat1)>=1440:\n",
    "        data11=datat1[0:1440]\n",
    "        data12=[]\n",
    "        data13=[]\n",
    "    cellsdnnm[i,0]=data11\n",
    "    cellsdnnm[i,1]=data12\n",
    "    cellsdnnm[i,2]=data13\n",
    "    if len(datat2)>=4320:\n",
    "        data21=datat2[0:1440]\n",
    "        data22=datat2[1440:2880]\n",
    "        data23=datat2[2880:4320]\n",
    "    elif len(datat2)>=2880:\n",
    "        data21=datat2[0:1440]\n",
    "        data22=datat2[1440:2880]\n",
    "        data23=[]\n",
    "    elif len(datat2)>=1440:\n",
    "        data21=datat2[0:1440]\n",
    "        data22=[]\n",
    "        data23=[]\n",
    "    cellcsim[i,0]=data21\n",
    "    cellcsim[i,1]=data22\n",
    "    cellcsim[i,2]=data23\n",
    "    if len(datat3)>=4320:\n",
    "        data31=datat3[0:1440]\n",
    "        data32=datat3[1440:2880]\n",
    "        data33=datat3[2880:4320]\n",
    "    elif len(datat3)>=2880:\n",
    "        data31=datat3[0:1440]\n",
    "        data32=datat3[1440:2880]\n",
    "        data33=[]\n",
    "    elif len(datat3)>=1440:\n",
    "        data31=datat3[0:1440]\n",
    "        data32=[]\n",
    "        data33=[]\n",
    "    cellcvim[i,0]=data31\n",
    "    cellcvim[i,1]=data32\n",
    "    cellcvim[i,2]=data33"
   ]
  },
  {
   "cell_type": "code",
   "execution_count": null,
   "metadata": {},
   "outputs": [],
   "source": [
    "cellsdnnc=np.empty((len(fileschild),3),dtype=object)\n",
    "cellcsic=np.empty((len(fileschild),3),dtype=object)\n",
    "cellcvic=np.empty((len(fileschild),3),dtype=object)\n",
    "for i in range(len(fileschild)):\n",
    "    data=cellc[i,0]\n",
    "    data.columns = [c.replace(' ', '') for c in data.columns]\n",
    "    data1=data.drop([0])\n",
    "    datat1=data1['STDRR'].astype(float)\n",
    "    datat2=data1['CSI'].astype(float)\n",
    "    datat3=data1['CVI'].astype(float)\n",
    "    if len(datat1)>=4320:\n",
    "        data11=datat1[0:1440]\n",
    "        data12=datat1[1440:2880]\n",
    "        data13=datat1[2880:4320]\n",
    "    elif len(datat1)>=2880:\n",
    "        data11=datat1[0:1440]\n",
    "        data12=datat1[1440:2880]\n",
    "        data13=[]\n",
    "    elif len(datat1)>=1440:\n",
    "        data11=datat1[0:1440]\n",
    "        data12=[]\n",
    "        data13=[]\n",
    "    cellsdnnc[i,0]=data11\n",
    "    cellsdnnc[i,1]=data12\n",
    "    cellsdnnc[i,2]=data13\n",
    "    if len(datat2)>=4320:\n",
    "        data21=datat2[0:1440]\n",
    "        data22=datat2[1440:2880]\n",
    "        data23=datat2[2880:4320]\n",
    "    elif len(datat2)>=2880:\n",
    "        data21=datat2[0:1440]\n",
    "        data22=datat2[1440:2880]\n",
    "        data23=[]\n",
    "    elif len(datat2)>=1440:\n",
    "        data21=datat2[0:1440]\n",
    "        data22=[]\n",
    "        data23=[]\n",
    "    cellcsic[i,0]=data21\n",
    "    cellcsic[i,1]=data22\n",
    "    cellcsic[i,2]=data23\n",
    "    if len(datat3)>=4320:\n",
    "        data31=datat3[0:1440]\n",
    "        data32=datat3[1440:2880]\n",
    "        data33=datat3[2880:4320]\n",
    "    elif len(datat3)>=2880:\n",
    "        data31=datat3[0:1440]\n",
    "        data32=datat3[1440:2880]\n",
    "        data33=[]\n",
    "    elif len(datat3)>=1440:\n",
    "        data31=datat3[0:1440]\n",
    "        data32=[]\n",
    "        data33=[]\n",
    "    cellcvic[i,0]=data31\n",
    "    cellcvic[i,1]=data32\n",
    "    cellcvic[i,2]=data33"
   ]
  },
  {
   "cell_type": "code",
   "execution_count": null,
   "metadata": {},
   "outputs": [],
   "source": [
    "def removemiss(cellsdnn,cellcsi,cellcvi):\n",
    "    for i in range(len(cellsdnn[:,0])): #missing value>20% remove\n",
    "        datas1=cellsdnn[i,0]\n",
    "        datas2=cellsdnn[i,1]\n",
    "        datas3=cellsdnn[i,2]\n",
    "        if len(datas1) != 0:\n",
    "            nums1 = (datas1.isna().sum())/len(datas1)\n",
    "            if nums1>=0.2:\n",
    "                cellsdnn[i,0]=[]\n",
    "        if len(datas2) != 0:\n",
    "            nums2 = (datas2.isna().sum())/len(datas2)\n",
    "            if nums2>=0.2:\n",
    "                cellsdnn[i,1]=[]\n",
    "        if len(datas3) != 0:\n",
    "            nums3 = (datas3.isna().sum())/len(datas3)\n",
    "            if nums3>=0.2:\n",
    "                cellsdnn[i,2]=[]\n",
    "    for i in range(len(cellcsi[:,0])): #missing value>20% remove\n",
    "        datac1=cellcsi[i,0]\n",
    "        datac2=cellcsi[i,1]\n",
    "        datac3=cellcsi[i,2]\n",
    "        if len(datac1) != 0:\n",
    "            numc1 = (datac1.isna().sum())/len(datac1)\n",
    "            if numc1>=0.2:\n",
    "                cellcsi[i,0]=[]\n",
    "        if len(datac2) != 0:\n",
    "            numc2 = (datac2.isna().sum())/len(datac2)\n",
    "            if numc2>=0.2:\n",
    "                cellcsi[i,1]=[]\n",
    "        if len(datac3) != 0:\n",
    "            numc3 = (datac3.isna().sum())/len(datac3)\n",
    "            if numc3>=0.2:\n",
    "                cellcsi[i,2]=[]\n",
    "    for i in range(len(cellcvi[:,0])): #missing value>20% remove\n",
    "        datav1=cellcvi[i,0]\n",
    "        datav2=cellcvi[i,1]\n",
    "        datav3=cellcvi[i,2]\n",
    "        if len(datav1) != 0:\n",
    "            numv1 = (datav1.isna().sum())/len(datav1)\n",
    "            if numv1>=0.2:\n",
    "                cellcvi[i,0]=[]\n",
    "        if len(datav2) != 0:\n",
    "            numv2 = (datav2.isna().sum())/len(datav2)\n",
    "            if numv2>=0.2:\n",
    "                cellcvi[i,1]=[]\n",
    "        if len(datav3) != 0:\n",
    "            numv3 = (datav3.isna().sum())/len(datav3)\n",
    "            if numv3>=0.2:\n",
    "                cellcvi[i,2]=[]\n",
    "    return cellsdnn,cellcsi,cellcvi"
   ]
  },
  {
   "cell_type": "code",
   "execution_count": null,
   "metadata": {},
   "outputs": [],
   "source": [
    "cellsdnnm,cellcsim,cellcvim=removemiss(cellsdnnm,cellcsim,cellcvim)\n",
    "cellsdnnc,cellcsic,cellcvic=removemiss(cellsdnnc,cellcsic,cellcvic)"
   ]
  },
  {
   "cell_type": "code",
   "execution_count": null,
   "metadata": {},
   "outputs": [],
   "source": [
    "plt.plot(cellsdnnm[38,0])"
   ]
  },
  {
   "cell_type": "code",
   "execution_count": null,
   "metadata": {},
   "outputs": [],
   "source": [
    "xlabel=np.arange(1440)\n",
    "plt.figure(figsize=(14,4))\n",
    "plt.plot(xlabel,cellsdnnm[38,1])\n",
    "plt.xticks(fontsize=30)\n",
    "plt.yticks(fontsize=30)\n",
    "plt.xlim(0,1440)\n",
    "plt.ylim(0,150)\n",
    "plt.xlabel('Time (min)',fontsize=30)"
   ]
  },
  {
   "cell_type": "code",
   "execution_count": null,
   "metadata": {},
   "outputs": [],
   "source": [
    "xlabel=np.arange(1440)\n",
    "plt.figure(figsize=(14,4))\n",
    "plt.plot(xlabel,cellsdnnc[38,1])\n",
    "plt.xticks(fontsize=30)\n",
    "plt.yticks(fontsize=30)\n",
    "plt.xlim(0,1440)\n",
    "plt.ylim(0,150)\n",
    "plt.xlabel('Time (min)',fontsize=30)"
   ]
  },
  {
   "cell_type": "code",
   "execution_count": null,
   "metadata": {},
   "outputs": [],
   "source": [
    "len(cellsdnnc)"
   ]
  },
  {
   "cell_type": "code",
   "execution_count": null,
   "metadata": {},
   "outputs": [],
   "source": [
    "meansdnnm=np.zeros((len(cellsdnnm[:,0]),3))\n",
    "meancsim=np.zeros((len(cellcsim[:,0]),3))\n",
    "meancvim=np.zeros((len(cellcvim[:,0]),3))\n",
    "\n",
    "meansdnnc=np.zeros((len(cellsdnnc[:,0]),3))\n",
    "meancsic=np.zeros((len(cellcsic[:,0]),3))\n",
    "meancvic=np.zeros((len(cellcvic[:,0]),3))\n",
    "\n",
    "stdsdnnm=np.zeros((len(cellsdnnm[:,0]),3))\n",
    "stdcsim=np.zeros((len(cellcsim[:,0]),3))\n",
    "stdcvim=np.zeros((len(cellcvim[:,0]),3))\n",
    "\n",
    "stdsdnnc=np.zeros((len(cellsdnnc[:,0]),3))\n",
    "stdcsic=np.zeros((len(cellcsic[:,0]),3))\n",
    "stdcvic=np.zeros((len(cellcvic[:,0]),3))"
   ]
  },
  {
   "cell_type": "code",
   "execution_count": null,
   "metadata": {},
   "outputs": [],
   "source": [
    "for i in range(len(cellsdnnm[:,0])):\n",
    "    for j in range(3):\n",
    "        if meansdnnm[i,j] is not None:\n",
    "            meansdnnm[i,j]=np.mean(cellsdnnm[i,j])\n",
    "            stdsdnnm[i,j]=np.std(cellsdnnm[i,j])\n",
    "        else:\n",
    "            meansdnnm[i,j]=np.nan\n",
    "            stdsdnnm[i,j]=np.nan\n",
    "        if meancsim[i,j] is not None:\n",
    "            meancsim[i,j]=np.mean(cellcsim[i,j])\n",
    "            stdcsim[i,j]=np.std(cellcsim[i,j])\n",
    "        else:\n",
    "            meancsim[i,j]=np.nan\n",
    "            stdcsim[i,j]=np.nan\n",
    "        if meancvim[i,j] is not None:\n",
    "            meancvim[i,j]=np.mean(cellcvim[i,j])\n",
    "            stdcvim[i,j]=np.std(cellcvim[i,j])\n",
    "        else:\n",
    "            meancvim[i,j]=np.nan\n",
    "            stdcvim[i,j]=np.nan\n",
    "        if meansdnnc[i,j] is not None:\n",
    "            meansdnnc[i,j]=np.mean(cellsdnnc[i,j])\n",
    "            stdsdnnc[i,j]=np.std(cellsdnnc[i,j])\n",
    "        else:\n",
    "            meansdnnc[i,j]=np.nan\n",
    "            stdsdnnc[i,j]=np.nan\n",
    "        if meancsic[i,j] is not None:\n",
    "            meancsic[i,j]=np.mean(cellcsic[i,j])\n",
    "            stdcsic[i,j]=np.std(cellcsic[i,j])\n",
    "        else:\n",
    "            meancsic[i,j]=np.nan\n",
    "            stdcsic[i,j]=np.nan\n",
    "        if meancvic[i,j] is not None:\n",
    "            meancvic[i,j]=np.mean(cellcvic[i,j])\n",
    "            stdcvic[i,j]=np.std(cellcvic[i,j])\n",
    "        else:\n",
    "            meancvic[i,j]=np.nan\n",
    "            stdcvic[i,j]=np.nan\n",
    "    "
   ]
  },
  {
   "cell_type": "code",
   "execution_count": null,
   "metadata": {},
   "outputs": [],
   "source": [
    "def plotmeanstd(filesname,mean,std):\n",
    "    regex=re.compile(r'\\d+')\n",
    "    plt.figure(figsize=(10,10))\n",
    "    for i in range(len(filesname)):\n",
    "        textn=regex.search(filesname[i]).group(0)\n",
    "        text1=textn+'1'\n",
    "        text2=textn+'2'\n",
    "        text3=textn+'3'\n",
    "        if ~np.isnan(mean[i,0]):\n",
    "            plt.scatter(mean[i,0],std[i,0])\n",
    "            #plt.annotate(text1,xy = (mean[i,0],std[i,0]),xytext = (mean[i,0]+0.5,std[i,0]+0.5))\n",
    "        if ~np.isnan(mean[i,1]):\n",
    "            plt.scatter(mean[i,1],std[i,1])\n",
    "            #plt.annotate(text2,xy = (mean[i,1],std[i,1]),xytext = (mean[i,1]+0.5,std[i,1]+0.5))\n",
    "        if ~np.isnan(mean[i,2]):\n",
    "            plt.scatter(mean[i,2],std[i,2])\n",
    "            #plt.annotate(text3,xy = (mean[i,2],std[i,2]),xytext = (mean[i,2]+0.5,std[i,2]+0.5))"
   ]
  },
  {
   "cell_type": "code",
   "execution_count": null,
   "metadata": {},
   "outputs": [],
   "source": [
    "def dataprepare(filesname,mean,std):\n",
    "    regex=re.compile(r'\\d+')\n",
    "    lm=[]\n",
    "    ls=[]\n",
    "    name=[]\n",
    "    for i in range(len(filesname)):\n",
    "        textn=regex.search(filesname[i]).group(0)\n",
    "        text1=textn+'1'\n",
    "        text2=textn+'2'\n",
    "        text3=textn+'3'\n",
    "        if ~np.isnan(mean[i,0]):\n",
    "            lm.append(mean[i,0])\n",
    "            ls.append(std[i,0])\n",
    "            name.append(text1)\n",
    "            #plt.annotate(text1,xy = (mean[i,0],std[i,0]),xytext = (mean[i,0]+0.5,std[i,0]+0.5))\n",
    "        if ~np.isnan(mean[i,1]):\n",
    "            lm.append(mean[i,1])\n",
    "            ls.append(std[i,1])\n",
    "            name.append(text2)\n",
    "            #plt.annotate(text2,xy = (mean[i,1],std[i,1]),xytext = (mean[i,1]+0.5,std[i,1]+0.5))\n",
    "        if ~np.isnan(mean[i,2]):\n",
    "            lm.append(mean[i,2])\n",
    "            ls.append(std[i,2])\n",
    "            name.append(text3)\n",
    "            #plt.annotate(text3,xy = (mean[i,2],std[i,2]),xytext = (mean[i,2]+0.5,std[i,2]+0.5))\n",
    "    data=np.c_[lm,ls]\n",
    "    return data,name"
   ]
  },
  {
   "cell_type": "code",
   "execution_count": null,
   "metadata": {},
   "outputs": [],
   "source": [
    "~np.isnan(meansdnnm[0,0])"
   ]
  },
  {
   "cell_type": "code",
   "execution_count": null,
   "metadata": {},
   "outputs": [],
   "source": [
    "datamssm,namesm=dataprepare(filesmother,meansdnnm,stdsdnnm)\n",
    "datamscm,namecm=dataprepare(filesmother,meancsim,stdcsim)\n",
    "datamsvm,namevm=dataprepare(filesmother,meancvim,stdcvim)\n",
    "\n",
    "datamssc,namesc=dataprepare(fileschild,meansdnnc,stdsdnnc)\n",
    "datamscc,namecc=dataprepare(fileschild,meancsic,stdcsic)\n",
    "datamsvc,namevc=dataprepare(fileschild,meancvic,stdcvic)"
   ]
  },
  {
   "cell_type": "code",
   "execution_count": null,
   "metadata": {},
   "outputs": [],
   "source": [
    "def kplot(data,names):\n",
    "    dis=np.min(data[:,1])/15\n",
    "    kmeansm= KMeans(n_clusters=3,max_iter=2000, tol=0.01)\n",
    "    kmeansm.fit(data)\n",
    "    clsm = kmeansm.predict(data)\n",
    "    txt = names\n",
    "    plt.figure(figsize=(10,10))\n",
    "    plt.scatter(data[clsm==0,0],data[clsm==0,1],color='red')\n",
    "    plt.scatter(data[clsm==1,0],data[clsm==1,1],color='blue')\n",
    "    plt.scatter(data[clsm==2,0],data[clsm==2,1],color='yellow')\n",
    "    for i in range(len(clsm)):\n",
    "        plt.annotate(txt[i],xy = (data[i,0],data[i,1]),xytext = (data[i,0]+dis,data[i,1]+dis))"
   ]
  },
  {
   "cell_type": "code",
   "execution_count": null,
   "metadata": {},
   "outputs": [],
   "source": [
    "#kplot(datamssm,namesm)"
   ]
  },
  {
   "cell_type": "code",
   "execution_count": null,
   "metadata": {},
   "outputs": [],
   "source": [
    "#kplot(datamscm,namecm)"
   ]
  },
  {
   "cell_type": "code",
   "execution_count": null,
   "metadata": {},
   "outputs": [],
   "source": [
    "#kplot(datamsvm,namevm)"
   ]
  },
  {
   "cell_type": "code",
   "execution_count": null,
   "metadata": {},
   "outputs": [],
   "source": [
    "#kplot(datamssc,namesc)"
   ]
  },
  {
   "cell_type": "code",
   "execution_count": null,
   "metadata": {},
   "outputs": [],
   "source": [
    "#kplot(datamscc,namecc)"
   ]
  },
  {
   "cell_type": "code",
   "execution_count": null,
   "metadata": {},
   "outputs": [],
   "source": [
    "#kplot(datamsvc,namevc)"
   ]
  },
  {
   "cell_type": "code",
   "execution_count": null,
   "metadata": {},
   "outputs": [],
   "source": [
    "#plotmeanstd(filesmother,meansdnnm,stdsdnnm)"
   ]
  },
  {
   "cell_type": "code",
   "execution_count": null,
   "metadata": {},
   "outputs": [],
   "source": [
    "#plotmeanstd(filesmother,meancsim,stdcsim)"
   ]
  },
  {
   "cell_type": "code",
   "execution_count": null,
   "metadata": {},
   "outputs": [],
   "source": [
    "#plotmeanstd(filesmother,meancvim,stdcvim)"
   ]
  },
  {
   "cell_type": "code",
   "execution_count": null,
   "metadata": {},
   "outputs": [],
   "source": [
    "#plotmeanstd(fileschild,meansdnnc,stdsdnnc)"
   ]
  },
  {
   "cell_type": "code",
   "execution_count": null,
   "metadata": {},
   "outputs": [],
   "source": [
    "#plotmeanstd(fileschild,meancsic,stdcsic)"
   ]
  },
  {
   "cell_type": "code",
   "execution_count": null,
   "metadata": {},
   "outputs": [],
   "source": [
    "#plotmeanstd(fileschild,meancvic,stdcvic)"
   ]
  },
  {
   "cell_type": "code",
   "execution_count": null,
   "metadata": {},
   "outputs": [],
   "source": [
    "#for i in range(len(clsm)):\n",
    "    #plt.annotate(txt[i],xy = (testm[i,0],testm[i,1]),xytext = (testm[i,0]+1,testm[i,1]+1))"
   ]
  },
  {
   "cell_type": "code",
   "execution_count": null,
   "metadata": {},
   "outputs": [],
   "source": [
    "def missingv(cellsdnn,cellcsi,cellcvi):\n",
    "    for i in range(len(cellsdnn[:,0])):\n",
    "        datat11=cellsdnn[i,0]\n",
    "        datat12=cellsdnn[i,1]\n",
    "        datat13=cellsdnn[i,2]\n",
    "        if len(datat11)!=0:\n",
    "            cellsdnn[i,0]=datat11.fillna(datat11.mean())\n",
    "        if len(datat12)!=0:\n",
    "            cellsdnn[i,1]=datat12.fillna(datat12.mean())\n",
    "        if len(datat13)!=0:\n",
    "            cellsdnn[i,2]=datat13.fillna(datat13.mean())\n",
    "    for i in range(len(cellcsi[:,0])):\n",
    "        datat21=cellcsi[i,0]\n",
    "        datat22=cellcsi[i,1]\n",
    "        datat23=cellcsi[i,2]\n",
    "        if len(datat21)!=0:\n",
    "            cellcsi[i,0]=datat21.fillna(datat21.mean())\n",
    "        if len(datat22)!=0:\n",
    "            cellcsi[i,1]=datat22.fillna(datat22.mean())\n",
    "        if len(datat23)!=0:\n",
    "            cellcsi[i,2]=datat23.fillna(datat23.mean())\n",
    "    for i in range(len(cellcvi[:,0])):\n",
    "        datat31=cellcvi[i,0]\n",
    "        datat32=cellcvi[i,1]\n",
    "        datat33=cellcvi[i,2]\n",
    "        if len(datat31)!=0:\n",
    "            cellcvi[i,0]=datat31.fillna(datat31.mean())\n",
    "        if len(datat32)!=0:\n",
    "            cellcvi[i,1]=datat32.fillna(datat32.mean())\n",
    "        if len(datat33)!=0:\n",
    "            cellcvi[i,2]=datat33.fillna(datat33.mean())\n",
    "    return cellsdnn,cellcsi,cellcvi"
   ]
  },
  {
   "cell_type": "code",
   "execution_count": null,
   "metadata": {},
   "outputs": [],
   "source": [
    "cellsdnnm,cellcsim,cellcvim=missingv(cellsdnnm,cellcsim,cellcvim)\n",
    "cellsdnnc,cellcsic,cellcvic=missingv(cellsdnnc,cellcsic,cellcvic)"
   ]
  },
  {
   "cell_type": "code",
   "execution_count": null,
   "metadata": {},
   "outputs": [],
   "source": [
    "def maxmin(data):\n",
    "    maxm=0\n",
    "    minm=10000000\n",
    "    for i in range(len(data[:,0])):\n",
    "        data11=np.nan\n",
    "        data12=np.nan\n",
    "        data13=np.nan\n",
    "        data11t=np.nan\n",
    "        data12t=np.nan\n",
    "        data13t=np.nan\n",
    "        if len(data[i,0])!=0:\n",
    "            data11=max(data[i,0])\n",
    "            data11t=min(data[i,0])\n",
    "        if len(data[i,1])!=0:\n",
    "            data12=max(data[i,1])\n",
    "            data12t=min(data[i,1])\n",
    "        if len(data[i,2])!=0:\n",
    "            data13=max(data[i,2])\n",
    "            data13t=min(data[i,2])\n",
    "        datamt=np.nanmax([data11,data12,data13])\n",
    "        datamit=np.nanmin([data11t,data12t,data13t])\n",
    "        if datamt>=maxm:\n",
    "            maxm=datamt\n",
    "            print(i,maxm)\n",
    "        if datamit<=minm:\n",
    "            minm=datamit\n",
    "    return maxm,minm"
   ]
  },
  {
   "cell_type": "code",
   "execution_count": null,
   "metadata": {},
   "outputs": [],
   "source": [
    "maxsm,minsm=maxmin(cellcsic)"
   ]
  },
  {
   "cell_type": "code",
   "execution_count": null,
   "metadata": {},
   "outputs": [],
   "source": [
    "maxsm,minsm=maxmin(cellsdnnm)\n",
    "maxcm,mincm=maxmin(cellcsim)\n",
    "maxvm,minvm=maxmin(cellcvim)\n",
    "\n",
    "maxsc,minsc=maxmin(cellsdnnc)\n",
    "maxcc,mincc=maxmin(cellcsic)\n",
    "maxvc,minvc=maxmin(cellcvic)\n"
   ]
  },
  {
   "cell_type": "code",
   "execution_count": null,
   "metadata": {},
   "outputs": [],
   "source": [
    "print(maxsm,minsm)\n",
    "print(maxcm,mincm)\n",
    "print(maxvm,minvm)\n",
    "\n",
    "print(maxsc,minsc)\n",
    "print(maxcc,mincc)\n",
    "print(maxvc,minvc)"
   ]
  },
  {
   "cell_type": "code",
   "execution_count": null,
   "metadata": {},
   "outputs": [],
   "source": [
    "def normalize(x, maxa,mina,axis=0):\n",
    "    return [(float(i)-mina)/float(maxa-mina) for i in x]"
   ]
  },
  {
   "cell_type": "code",
   "execution_count": null,
   "metadata": {},
   "outputs": [],
   "source": [
    "cellpsm=np.empty((len(filesmother),3),dtype=object)\n",
    "cellpsc=np.empty((len(fileschild),3),dtype=object)\n",
    "\n",
    "cellpcm=np.empty((len(filesmother),3),dtype=object)\n",
    "cellpcc=np.empty((len(fileschild),3),dtype=object)\n",
    "\n",
    "cellpvm=np.empty((len(filesmother),3),dtype=object)\n",
    "cellpvc=np.empty((len(fileschild),3),dtype=object)"
   ]
  },
  {
   "cell_type": "code",
   "execution_count": null,
   "metadata": {},
   "outputs": [],
   "source": [
    "def preprocess(data,maxa,mina,cellp):\n",
    "    for i in range(len(data[:,0])):\n",
    "        data11=data[i,0]\n",
    "        data12=data[i,1]\n",
    "        data13=data[i,2]\n",
    "        if len(data11)!=0:\n",
    "            datan1=normalize(data11,maxa,mina,axis=0)\n",
    "            dataout1=datan1-np.mean(datan1)\n",
    "            datar1=[round(i,1) for i in dataout1]\n",
    "            #datar1=[i+0.5 for i in datar1]\n",
    "            cellp[i,0]=datar1\n",
    "            #cellp[i,0]=datan1\n",
    "        if len(data12)!=0:\n",
    "            datan2=normalize(data12,maxa,mina,axis=0)\n",
    "            dataout2=datan2-np.mean(datan2)\n",
    "            datar2=[round(i,1) for i in dataout2]\n",
    "            #datar2=[i+0.5 for i in datar2]\n",
    "            cellp[i,1]=datar2\n",
    "            #cellp[i,1]=datan2\n",
    "        if len(data13)!=0:\n",
    "            datan3=normalize(data13,maxa,mina,axis=0)\n",
    "            dataout3=datan3-np.mean(datan3)\n",
    "            #datar3=datan3-np.mean(datan3)\n",
    "            datar3=[round(i,1) for i in dataout3]\n",
    "            #datar3=[i+0.5 for i in datar3]\n",
    "            cellp[i,2]=datar3\n",
    "            #cellp[i,2]=datan3\n",
    "    return cellp"
   ]
  },
  {
   "cell_type": "code",
   "execution_count": null,
   "metadata": {},
   "outputs": [],
   "source": [
    "cellpsmt=preprocess(cellsdnnm,maxsm,minsm,cellpsm)\n",
    "cellpcmt=preprocess(cellcsim,maxcm,mincm,cellpcm)\n",
    "cellpvmt=preprocess(cellcvim,maxvm,minvm,cellpvm)\n",
    "\n",
    "cellpsct=preprocess(cellsdnnc,maxsc,minsc,cellpsc)\n",
    "cellpcct=preprocess(cellcsic,maxcc,mincc,cellpcc)\n",
    "cellpvct=preprocess(cellcvic,maxvc,minvc,cellpvc)"
   ]
  },
  {
   "cell_type": "code",
   "execution_count": null,
   "metadata": {},
   "outputs": [],
   "source": [
    "print(min(cellpcct[24,0]))"
   ]
  },
  {
   "cell_type": "code",
   "execution_count": null,
   "metadata": {},
   "outputs": [],
   "source": [
    "xlabel=np.arange(1440)\n",
    "plt.figure(figsize=(18,2))\n",
    "cmap=cm.get_cmap('hsv',11)\n",
    "plt.scatter(xlabel,cellpsmt[10,0],c=cellpsmt[10,0],cmap=cmap,s=20,vmin=-0.5, vmax=0.5)\n",
    "plt.xticks(fontsize=30)\n",
    "plt.yticks(fontsize=30)\n",
    "plt.xlim(0,1440)\n",
    "plt.ylim(-0.5,0.7)\n",
    "plt.xlabel('Time (min)',fontsize=30)"
   ]
  },
  {
   "cell_type": "code",
   "execution_count": null,
   "metadata": {},
   "outputs": [],
   "source": [
    "plt.plot(cellpsmt[2,0])\n",
    "plt.show()\n",
    "plt.plot(cellsdnnm[2,0])"
   ]
  },
  {
   "cell_type": "code",
   "execution_count": null,
   "metadata": {},
   "outputs": [],
   "source": [
    "def rrc(y,yi,path,aaa):\n",
    "    #mpl.use('Agg') \n",
    "    ya=np.array(y)\n",
    "    yia=np.array(yi)\n",
    "    matrix=np.zeros((len(ya),len(yia)))\n",
    "    matrixc=np.zeros((len(ya),len(yia)))-100\n",
    "    matrixx=np.zeros((len(ya),len(yia)))\n",
    "    if np.max(yia)>=np.max(ya):\n",
    "        maxx=np.max(yia)\n",
    "    else:\n",
    "        maxx=np.max(ya)\n",
    "    if np.min(yia)<=np.min(ya):\n",
    "        minx=np.min(yia)\n",
    "    else:\n",
    "        minx=np.min(ya)\n",
    "\n",
    "    for i in range(len(ya)):\n",
    "        indf=np.where(yia==ya[i])\n",
    "        iii=indf[0]\n",
    "        yyy=np.array([np.nan]*len(yia))\n",
    "        yyyt=np.array([np.nan]*len(yia))\n",
    "        xlabel=np.zeros((1,len(ya)))+i\n",
    "        matrixx[:,i]=xlabel\n",
    "        if len(iii)!=0:\n",
    "            yyy[iii]=ya[i]\n",
    "            yyyt[iii]=iii\n",
    "            matrix[:,i]=yyyt\n",
    "            matrixc[:,i]=yyy\n",
    "    for j in range(len(matrixc[:,0])):\n",
    "        inddd=np.where(matrixc[j,:]==-100)\n",
    "        inddd0=np.array(inddd[0])\n",
    "        matrixc[j,inddd0]=np.nan\n",
    "    plt.figure(figsize=(1,1))\n",
    "    plt.axis('off')\n",
    "    dx=np.arange(len(ya))\n",
    "    #plt.plot(dx,dx,linewidth=1,color='black')\n",
    "    #plt.xlim(0,len(ya))\n",
    "    #plt.ylim(0,len(ya))\n",
    "    plt.scatter([i for i in matrixx],[j for j in matrix],c=[k for k in matrixc],cmap='hsv',s=1,vmin=-0.5, vmax=0.5)\n",
    "    plt.xlim(0,len(ya))\n",
    "    plt.ylim(0,len(ya))\n",
    "    plt.xticks(fontsize=14)\n",
    "    plt.yticks(fontsize=14)\n",
    "    plt.savefig(path+aaa,bbox_inches='tight',pad_inches=0.0)\n",
    "    #plt.xlabel('Mother',fontsize=14)\n",
    "    #plt.ylabel('Infant',fontsize=14)\n",
    "    #plt.title(aaa,fontsize=14)\n",
    "    #plt.colorbar()\n",
    "    #plt.show()"
   ]
  },
  {
   "cell_type": "code",
   "execution_count": null,
   "metadata": {},
   "outputs": [],
   "source": [
    "def rrcout(y,yi):\n",
    "    #mpl.use('Agg') \n",
    "    ya=np.array(y)\n",
    "    yia=np.array(yi)\n",
    "    matrix=np.zeros((len(ya),len(yia)))\n",
    "    matrixc=np.zeros((len(ya),len(yia)))-100\n",
    "    matrixx=np.zeros((len(ya),len(yia)))\n",
    "    if np.max(yia)>=np.max(ya):\n",
    "        maxx=np.max(yia)\n",
    "    else:\n",
    "        maxx=np.max(ya)\n",
    "    if np.min(yia)<=np.min(ya):\n",
    "        minx=np.min(yia)\n",
    "    else:\n",
    "        minx=np.min(ya)\n",
    "\n",
    "    for i in range(len(ya)):\n",
    "        indf=np.where(yia==ya[i])\n",
    "        iii=indf[0]\n",
    "        yyy=np.array([np.nan]*len(yia))\n",
    "        yyyt=np.array([np.nan]*len(yia))\n",
    "        xlabel=np.zeros((1,len(ya)))+i\n",
    "        matrixx[:,i]=xlabel\n",
    "        if len(iii)!=0:\n",
    "            yyy[iii]=ya[i]\n",
    "            yyyt[iii]=iii\n",
    "            matrix[:,i]=yyyt\n",
    "            matrixc[:,i]=yyy\n",
    "    for j in range(len(matrixc[:,0])):\n",
    "        inddd=np.where(matrixc[j,:]==-100)\n",
    "        inddd0=np.array(inddd[0])\n",
    "        matrixc[j,inddd0]=np.nan\n",
    "    plt.figure(figsize=(20,16))\n",
    "    plt.axis('off')\n",
    "    dx=np.arange(len(ya))\n",
    "    #plt.plot(dx,dx,linewidth=1,color='black')\n",
    "    #plt.xlim(0,len(ya))\n",
    "    #plt.ylim(0,len(ya))\n",
    "    cmap=cm.get_cmap('hsv',11)\n",
    "    plt.scatter([i for i in matrixx],[j for j in matrix],c=[k for k in matrixc],cmap=cmap,s=1,vmin=-0.5, vmax=0.5)\n",
    "    plt.xlim(0,len(ya))\n",
    "    plt.ylim(0,len(ya))\n",
    "    plt.xticks(fontsize=14)\n",
    "    plt.yticks(fontsize=14)\n",
    "    cbar=plt.colorbar()\n",
    "    tick_font_size = 30\n",
    "    cbar.ax.tick_params(labelsize=tick_font_size)\n",
    "    cbar.locator=mpl.ticker.MaxNLocator(nbins=11)\n",
    "    cbar.update_ticks()\n",
    "    #plt.savefig(path+aaa,bbox_inches='tight',pad_inches=0.0)\n",
    "    #plt.xlabel('Mother',fontsize=14)\n",
    "    #plt.ylabel('Infant',fontsize=14)\n",
    "    #plt.title(aaa,fontsize=14)\n",
    "    #plt.colorbar()\n",
    "    plt.show()"
   ]
  },
  {
   "cell_type": "code",
   "execution_count": null,
   "metadata": {},
   "outputs": [],
   "source": [
    "rrcout(cellpvct[-2,0],cellpvct[-2,0])"
   ]
  },
  {
   "cell_type": "code",
   "execution_count": null,
   "metadata": {},
   "outputs": [],
   "source": [
    "rrcout(cellpvmt[-2,0],cellpvmt[-2,0])"
   ]
  },
  {
   "cell_type": "code",
   "execution_count": null,
   "metadata": {},
   "outputs": [],
   "source": [
    "rrcout(cellpvmt[-2,0],cellpvct[-2,0])"
   ]
  },
  {
   "cell_type": "code",
   "execution_count": null,
   "metadata": {},
   "outputs": [],
   "source": [
    "xlabel=np.arange(1440)\n",
    "plt.figure(figsize=(18,2))\n",
    "cmap=cm.get_cmap('hsv',11)\n",
    "plt.scatter(xlabel,cellpvct[-2,0],c=cellpvct[-2,0],cmap=cmap,s=20,vmin=-0.5, vmax=0.5)\n",
    "plt.xticks(fontsize=30)\n",
    "plt.yticks(fontsize=30)\n",
    "plt.xlim(0,1440)\n",
    "plt.ylim(-0.5,0.7)\n",
    "plt.xlabel('Time (min)',fontsize=30)"
   ]
  },
  {
   "cell_type": "code",
   "execution_count": null,
   "metadata": {},
   "outputs": [],
   "source": [
    "xlabel=np.arange(1440)\n",
    "plt.figure(figsize=(18,2))\n",
    "cmap=cm.get_cmap('hsv',11)\n",
    "plt.scatter(xlabel,cellpvmt[-2,0],c=cellpvmt[-2,0],cmap=cmap,s=20,vmin=-0.5, vmax=0.5)\n",
    "plt.xticks(fontsize=30)\n",
    "plt.yticks(fontsize=30)\n",
    "plt.xlim(0,1440)\n",
    "plt.ylim(-0.5,0.7)\n",
    "plt.xlabel('Time (min)',fontsize=30)"
   ]
  },
  {
   "cell_type": "code",
   "execution_count": null,
   "metadata": {},
   "outputs": [],
   "source": [
    "np.mean(cellpsct[2,0])"
   ]
  },
  {
   "cell_type": "code",
   "execution_count": null,
   "metadata": {},
   "outputs": [],
   "source": [
    "pathms=r'D:\\KyotoUdata\\all\\dp\\mother\\sdnn' #path to save figures"
   ]
  },
  {
   "cell_type": "code",
   "execution_count": null,
   "metadata": {},
   "outputs": [],
   "source": [
    "for i in range(len(cellpsmt[:,0])):\n",
    "    data1=cellpsmt[i,0]\n",
    "    data2=cellpsmt[i,1]\n",
    "    data3=cellpsmt[i,2]\n",
    "    if data1 is not None:\n",
    "        aaa='\\\\'+filesmother[i].split('.')[0]+'1'\n",
    "        rrc(data1,data1,pathms,aaa)\n",
    "    if data2 is not None:\n",
    "        aaa='\\\\'+filesmother[i].split('.')[0]+'2'\n",
    "        rrc(data2,data2,pathms,aaa)\n",
    "    if data3 is not None:\n",
    "        aaa='\\\\'+filesmother[i].split('.')[0]+'3'\n",
    "        rrc(data3,data3,pathms,aaa)"
   ]
  },
  {
   "cell_type": "code",
   "execution_count": null,
   "metadata": {},
   "outputs": [],
   "source": [
    "pathcm=r'D:\\KyotoUdata\\all\\onedaym\\csi'"
   ]
  },
  {
   "cell_type": "code",
   "execution_count": null,
   "metadata": {},
   "outputs": [],
   "source": [
    "for i in range(len(cellpcmt[:,0])):\n",
    "    data1=cellpcmt[i,0]\n",
    "    data2=cellpcmt[i,1]\n",
    "    data3=cellpcmt[i,2]\n",
    "    if data1 is not None:\n",
    "        aaa='\\\\'+filesmother[i].split('.')[0]+'1'\n",
    "        #rrc(data1,data1,pathcm,aaa)\n",
    "    if data2 is not None:\n",
    "        aaa='\\\\'+filesmother[i].split('.')[0]+'2'\n",
    "        #rrc(data2,data2,pathcm,aaa)\n",
    "    if data3 is not None:\n",
    "        aaa='\\\\'+filesmother[i].split('.')[0]+'3'\n",
    "        #rrc(data3,data3,pathcm,aaa)"
   ]
  },
  {
   "cell_type": "code",
   "execution_count": null,
   "metadata": {},
   "outputs": [],
   "source": [
    "pathvm=r'D:\\KyotoUdata\\all\\onedaym\\cvi'"
   ]
  },
  {
   "cell_type": "code",
   "execution_count": null,
   "metadata": {},
   "outputs": [],
   "source": [
    "for i in range(len(cellpvmt[:,0])):\n",
    "    data1=cellpvmt[i,0]\n",
    "    data2=cellpvmt[i,1]\n",
    "    data3=cellpvmt[i,2]\n",
    "    if data1 is not None:\n",
    "        aaa='\\\\'+filesmother[i].split('.')[0]+'1'\n",
    "        #rrc(data1,data1,pathvm,aaa)\n",
    "    if data2 is not None:\n",
    "        aaa='\\\\'+filesmother[i].split('.')[0]+'2'\n",
    "        #rrc(data2,data2,pathvm,aaa)\n",
    "    if data3 is not None:\n",
    "        aaa='\\\\'+filesmother[i].split('.')[0]+'3'\n",
    "        #rrc(data3,data3,pathvm,aaa)"
   ]
  },
  {
   "cell_type": "code",
   "execution_count": null,
   "metadata": {},
   "outputs": [],
   "source": [
    "pathcs=r'D:\\KyotoUdata\\all\\onedayc\\sdnn'"
   ]
  },
  {
   "cell_type": "code",
   "execution_count": null,
   "metadata": {},
   "outputs": [],
   "source": [
    "for i in range(len(cellpsct[:,0])):\n",
    "    data1=cellpsct[i,0]\n",
    "    data2=cellpsct[i,1]\n",
    "    data3=cellpsct[i,2]\n",
    "    if data1 is not None:\n",
    "        aaa='\\\\'+fileschild[i].split('.')[0]+'1'\n",
    "        #rrc(data1,data1,pathcs,aaa)\n",
    "    if data2 is not None:\n",
    "        aaa='\\\\'+fileschild[i].split('.')[0]+'2'\n",
    "        #rrc(data2,data2,pathcs,aaa)\n",
    "    if data3 is not None:\n",
    "        aaa='\\\\'+fileschild[i].split('.')[0]+'3'\n",
    "        #rrc(data3,data3,pathcs,aaa)"
   ]
  },
  {
   "cell_type": "code",
   "execution_count": null,
   "metadata": {},
   "outputs": [],
   "source": [
    "pathcc=r'D:\\KyotoUdata\\all\\onedayc\\csi'"
   ]
  },
  {
   "cell_type": "code",
   "execution_count": null,
   "metadata": {},
   "outputs": [],
   "source": [
    "for i in range(len(cellpcct[:,0])):\n",
    "    data1=cellpcct[i,0]\n",
    "    data2=cellpcct[i,1]\n",
    "    data3=cellpcct[i,2]\n",
    "    if data1 is not None:\n",
    "        aaa='\\\\'+fileschild[i].split('.')[0]+'1'\n",
    "        #rrc(data1,data1,pathcc,aaa)\n",
    "    if data2 is not None:\n",
    "        aaa='\\\\'+fileschild[i].split('.')[0]+'2'\n",
    "        #rrc(data2,data2,pathcc,aaa)\n",
    "    if data3 is not None:\n",
    "        aaa='\\\\'+fileschild[i].split('.')[0]+'3'\n",
    "        #rrc(data3,data3,pathcc,aaa)"
   ]
  },
  {
   "cell_type": "code",
   "execution_count": null,
   "metadata": {},
   "outputs": [],
   "source": [
    "pathvc=r'D:\\KyotoUdata\\all\\onedayc\\cvi'"
   ]
  },
  {
   "cell_type": "code",
   "execution_count": null,
   "metadata": {},
   "outputs": [],
   "source": [
    "for i in range(len(cellpvct[:,0])):\n",
    "    data1=cellpvct[i,0]\n",
    "    data2=cellpvct[i,1]\n",
    "    data3=cellpvct[i,2]\n",
    "    if data1 is not None:\n",
    "        aaa='\\\\'+fileschild[i].split('.')[0]+'1'\n",
    "        #rrc(data1,data1,pathvc,aaa)\n",
    "    if data2 is not None:\n",
    "        aaa='\\\\'+fileschild[i].split('.')[0]+'2'\n",
    "        #rrc(data2,data2,pathvc,aaa)\n",
    "    if data3 is not None:\n",
    "        aaa='\\\\'+fileschild[i].split('.')[0]+'3'\n",
    "        #rrc(data3,data3,pathvc,aaa)"
   ]
  }
 ],
 "metadata": {
  "kernelspec": {
   "display_name": "Python 3 (ipykernel)",
   "language": "python",
   "name": "python3"
  },
  "language_info": {
   "codemirror_mode": {
    "name": "ipython",
    "version": 3
   },
   "file_extension": ".py",
   "mimetype": "text/x-python",
   "name": "python",
   "nbconvert_exporter": "python",
   "pygments_lexer": "ipython3",
   "version": "3.9.13"
  }
 },
 "nbformat": 4,
 "nbformat_minor": 4
}
